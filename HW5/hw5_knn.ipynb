{
 "cells": [
  {
   "cell_type": "markdown",
   "metadata": {},
   "source": [
    "# KNN Model in Python"
   ]
  },
  {
   "cell_type": "markdown",
   "metadata": {},
   "source": [
    "### 1. Imports"
   ]
  },
  {
   "cell_type": "code",
   "execution_count": 46,
   "metadata": {},
   "outputs": [],
   "source": [
    "import numpy as np\n",
    "import matplotlib.pyplot as plt\n",
    "import pandas as pd\n",
    "\n",
    "from sklearn.preprocessing import StandardScaler\n",
    "from sklearn.neighbors import KNeighborsClassifier\n",
    "from sklearn.metrics import classification_report, confusion_matrix\n"
   ]
  },
  {
   "cell_type": "markdown",
   "metadata": {},
   "source": [
    "### 2. Datasets (Train and Test)"
   ]
  },
  {
   "cell_type": "code",
   "execution_count": 57,
   "metadata": {},
   "outputs": [
    {
     "name": "stdout",
     "output_type": "stream",
     "text": [
      "\n",
      "Training Data:\n",
      " [[ 0.78317  -1.008609 -1.111051 ... -0.85646  -0.96847  -0.333715]\n",
      " [-1.026003 -0.233585 -0.014968 ...  0.209875 -0.892699  0.063804]\n",
      " [ 0.555915  0.647914  0.504814 ... -0.238873  0.909458 -0.080437]\n",
      " ...\n",
      " [-0.795427 -0.31503  -1.397318 ... -0.35328   1.288353  1.13345 ]\n",
      " [-0.218398  0.513718 -1.250968 ... -0.782073  1.491254 -1.163395]\n",
      " [ 1.081998 -0.501509 -0.794577 ... -1.20811   0.346858  0.561956]]\n",
      "\n",
      "\n",
      "Testing Data:\n",
      " [[-1.367878 -0.419243 -1.619836 ...  0.091201  0.622473 -2.564467]\n",
      " [-0.789542  1.307517  0.084476 ...  0.606668 -0.23761  -0.431384]\n",
      " [-0.077066 -1.221734  0.386193 ... -0.067291  0.495359 -1.171572]\n",
      " ...\n",
      " [-0.068324 -1.259429 -0.520822 ... -0.579941  0.008835  0.35889 ]\n",
      " [ 1.417301 -2.031305  1.416821 ...  0.138528 -0.443491  0.82036 ]\n",
      " [-1.496391 -0.424581  0.786344 ...  0.574461  0.715416  0.939019]]\n",
      "\n",
      "\n",
      "(First 10) Training Labels:\n",
      " [1 1 1 1 1 1 1 1 1 1]\n"
     ]
    }
   ],
   "source": [
    "X_train_load = pd.read_csv('/Users/masonware/Desktop/COSI_101A/HW5/data/training.csv') # data saved in /data/training.csv\n",
    "X_test_load = pd.read_csv('/Users/masonware/Desktop/COSI_101A/HW5/data/testing.csv') # data saved at /data/testing.csv\n",
    "\n",
    "#training data and labels\n",
    "X_train = X_train_load.iloc[:, 1:].values\n",
    "y_train = X_train_load.iloc[:, 0].values\n",
    "\n",
    "#testing data\n",
    "X_test = X_test_load.values\n",
    "\n",
    "\n",
    "print('\\nTraining Data:\\n', X_train)\n",
    "print('\\n\\nTesting Data:\\n', X_test)\n",
    "print('\\n\\n(First 10) Training Labels:\\n', y_train[:10])\n"
   ]
  },
  {
   "cell_type": "markdown",
   "metadata": {},
   "source": [
    "#### Scaling Data"
   ]
  },
  {
   "cell_type": "markdown",
   "metadata": {},
   "source": [
    "Before making any actual predictions, it is always a good practice to scale the features so that all of them can be uniformly evaluated. Wikipedia explains the reasoning pretty well:\n",
    "\n",
    "`Since the range of values of raw data varies widely, in some machine learning algorithms, objective functions will not work properly without normalization. For example, the majority of classifiers calculate the distance between two points by the Euclidean distance. If one of the features has a broad range of values, the distance will be governed by this particular feature. Therefore, the range of all features should be normalized so that each feature contributes approximately proportionately to the final distance.`\n",
    "\n",
    "The gradient descent algorithm (which is used in neural network training and other machine learning algorithms) also converges faster with normalized features.\n",
    "\n"
   ]
  },
  {
   "cell_type": "code",
   "execution_count": 42,
   "metadata": {},
   "outputs": [
    {
     "name": "stdout",
     "output_type": "stream",
     "text": [
      "Scaled Training Data:\n",
      " [[ 0.76244623 -1.08002641 -1.04766333 ... -0.90622568 -0.96198405\n",
      "  -0.27119299]\n",
      " [-1.0778513  -0.23903366 -0.00413676 ...  0.17434082 -0.88440464\n",
      "   0.11015049]\n",
      " [ 0.53128159  0.71749707  0.49072204 ... -0.28039625  0.96076406\n",
      "  -0.02822117]\n",
      " ...\n",
      " [-0.84330853 -0.32741112 -1.32020403 ... -0.39633015  1.34870206\n",
      "   1.13627134]\n",
      " [-0.25635248  0.57187853 -1.18087141 ... -0.8308459   1.55644566\n",
      "  -1.06711233]\n",
      " [ 1.06641518 -0.5297629  -0.74636405 ... -1.26256887  0.3847366\n",
      "   0.5880321 ]]\n",
      "\n",
      "\n",
      "Sclaed Testing Data:\n",
      " [[-1.42560782 -0.44049456 -1.53205244 ...  0.05408297  0.66692965\n",
      "  -2.41117307]\n",
      " [-0.83732228  1.43324438  0.09053896 ...  0.57642949 -0.21368077\n",
      "  -0.36488772]\n",
      " [-0.11258904 -1.31129226  0.37778884 ... -0.10652429  0.53678185\n",
      "  -1.0749566 ]\n",
      " ...\n",
      " [-0.10369664 -1.35219579 -0.48573541 ... -0.62601621  0.03864608\n",
      "   0.3932291 ]\n",
      " [ 1.40748665 -2.18977259  1.35899893 ...  0.10204161 -0.42447548\n",
      "   0.83592134]\n",
      " [-1.55633172 -0.44628692  0.75875287 ...  0.54379265  0.7620909\n",
      "   0.94975197]]\n"
     ]
    }
   ],
   "source": [
    "scaler = StandardScaler()\n",
    "scaler.fit(X_train)\n",
    "\n",
    "X_train = scaler.transform(X_train)\n",
    "X_test = scaler.transform(X_test)\n",
    "\n",
    "\n",
    "print(f'Scaled Training Data:\\n', X_train)\n",
    "print(f'\\n\\nSclaed Testing Data:\\n', X_test)\n"
   ]
  },
  {
   "cell_type": "markdown",
   "metadata": {},
   "source": [
    "### 3. Training the KNN model"
   ]
  },
  {
   "cell_type": "markdown",
   "metadata": {},
   "source": [
    "So now let's run the model with a basic guess of k = 5 `(will be reviewed later)` on the training data."
   ]
  },
  {
   "cell_type": "code",
   "execution_count": 66,
   "metadata": {},
   "outputs": [
    {
     "name": "stdout",
     "output_type": "stream",
     "text": [
      "[1 2 2 1 2 1 1 1 1 1 1 1 1 1 1 1 1 1 1 1 1 1 1 1 1 1 1 2 1 1 1 1 1 1 1 1 1\n",
      " 1 1 1 2 1 1 1 1 1 1 2 1 2 1 1 1 1 1 1 1 1 1 2 1 1 2 1 1 1 1 1 1 1 2 1 1 1\n",
      " 1 1 1 1 1 1 1 1 1 1 1 1 1 1 1 1 1 1 1 2 1 1 1 1 1 1 2 1 1 1 1 1 1 1 1 1 1\n",
      " 1 1 1 1 1 1 1 1 2 1 1 1 1 1 1 1 1 1 1 1 1 1 1 1 1 1 1 1 1 1 1 1 1 1 1 1 1\n",
      " 1 1 1 1 1 1 1 1 1 1 1 1 1 2 1 1 1 1 1 1 1 1 1 1 1 1 1 1 1 1 1 1 1 2 1 1 1\n",
      " 1 1 1 1 1 1 1 1 1 1 1 1 1 1 1 2 2 2 2 2 2 2 2 1 2 2 2 2 2 2 2 2 2 2 2 2 2\n",
      " 2 2 1 2 2 2 2 2 2 2 2 2 2 2 2 1 2 2 1 2 2 2 2 2 2 2 2 2 2 2 2 1 2 2 2 2 2\n",
      " 2 2 2 2 2 2 2 2 2 2 2 2 2 2 2 2 2 2 2 2 2 2 2 2 2 2 2 2 2 2 2 2 2 2 1 2 2\n",
      " 2 2 2 2 2 2 2 2 2 2 2 2 2 2 2 2 2 2 2 2 2 2 2 2 2 2 2 2 2 2 2 2 2 2 2 2 2\n",
      " 2 2 2 1 2 2 2 2 2 2 2 2 2 2 2 2 2 2 2 2 2 2 2 2 1 2 2 2 2 2 2 2 2 2 2 2 2\n",
      " 2 2 2 2 2 2 2 2 2 2 2 2 2 2 2 2 2 2 2 2 2 2 2 2 2 2 2 2 2 2]\n"
     ]
    }
   ],
   "source": [
    "classifier = KNeighborsClassifier(n_neighbors=5)\n",
    "classifier.fit(X_train, y_train)\n",
    "\n",
    "# get predictions\n",
    "y_pred = classifier.predict(X_train)"
   ]
  },
  {
   "cell_type": "markdown",
   "metadata": {},
   "source": [
    "### 4. Model Evaulation"
   ]
  },
  {
   "cell_type": "markdown",
   "metadata": {},
   "source": [
    "For evaluating an algorithm, confusion matrix, precision, recall and f1 score are the most commonly used metrics. The `confusion_matrix` and `classification_report` methods of the `sklearn.metrics` can be used to calculate these metrics"
   ]
  },
  {
   "cell_type": "markdown",
   "metadata": {},
   "source": [
    "In order to test the model's efficiency, I will be comparing the training data labels `(y_train)` to the obtained results of the model on the training data `(y_pred)`."
   ]
  },
  {
   "cell_type": "code",
   "execution_count": 65,
   "metadata": {},
   "outputs": [
    {
     "name": "stdout",
     "output_type": "stream",
     "text": [
      "[[185  15]\n",
      " [  8 192]]\n",
      "              precision    recall  f1-score   support\n",
      "\n",
      "           1       0.96      0.93      0.94       200\n",
      "           2       0.93      0.96      0.94       200\n",
      "\n",
      "    accuracy                           0.94       400\n",
      "   macro avg       0.94      0.94      0.94       400\n",
      "weighted avg       0.94      0.94      0.94       400\n",
      "\n"
     ]
    }
   ],
   "source": [
    "print(confusion_matrix(y_train, y_pred))\n",
    "print(classification_report(y_train, y_pred))"
   ]
  },
  {
   "cell_type": "markdown",
   "metadata": {},
   "source": [
    "The results show that our KNN algorithm was able to classify all the 400 records in the test set with 94% accuracy, which is pretty good!\n"
   ]
  },
  {
   "cell_type": "markdown",
   "metadata": {},
   "source": [
    "### 5. Picking The Right K"
   ]
  },
  {
   "cell_type": "markdown",
   "metadata": {},
   "source": [
    "One way to help you find the best value of K is to plot the graph of K value and the corresponding error rate for the dataset."
   ]
  },
  {
   "cell_type": "markdown",
   "metadata": {},
   "source": [
    "Here, I will plot the mean error for the predicted values of test set for all the K values between 1 and 40."
   ]
  },
  {
   "cell_type": "code",
   "execution_count": 70,
   "metadata": {},
   "outputs": [],
   "source": [
    "error = []\n",
    "\n",
    "# Calculating error for K values between 1 and 40\n",
    "for i in range(1, 40):\n",
    "    knn = KNeighborsClassifier(n_neighbors=i)\n",
    "    knn.fit(X_train, y_train)\n",
    "    pred_i = knn.predict(X_train)\n",
    "    error.append(np.mean(pred_i != y_train))"
   ]
  },
  {
   "cell_type": "markdown",
   "metadata": {},
   "source": [
    "Now I can plot the error values against K values..."
   ]
  },
  {
   "cell_type": "code",
   "execution_count": 68,
   "metadata": {},
   "outputs": [
    {
     "data": {
      "text/plain": [
       "Text(0, 0.5, 'Mean Error')"
      ]
     },
     "execution_count": 68,
     "metadata": {},
     "output_type": "execute_result"
    },
    {
     "data": {
      "image/png": "[encoded data removed]",
      "text/plain": [
       "<Figure size 864x432 with 1 Axes>"
      ]
     },
     "metadata": {
      "needs_background": "light"
     },
     "output_type": "display_data"
    }
   ],
   "source": [
    "plt.figure(figsize=(12, 6))\n",
    "plt.plot(range(1, 40), error, color='red', linestyle='dashed', marker='o',\n",
    "         markerfacecolor='blue', markersize=10)\n",
    "plt.title('Error Rate K Value')\n",
    "plt.xlabel('K Value')\n",
    "plt.ylabel('Mean Error')"
   ]
  },
  {
   "cell_type": "markdown",
   "metadata": {},
   "source": [
    "From the output we can see that the mean error is zero when the value of the K is very low (most likely 1). However, it is important to note that all of the values of mean errors are relatively low. Therefore, most any value in the range will work. Ideally, the 5 lowest values based on their mean error are: 1, 2, 3, 7, 31, and 32. For the purposes of minimizing the error while not overfitting the model, I will use k = 31."
   ]
  },
  {
   "cell_type": "markdown",
   "metadata": {},
   "source": [
    "### 6. Running KNN On The Test Set"
   ]
  },
  {
   "cell_type": "code",
   "execution_count": 72,
   "metadata": {},
   "outputs": [
    {
     "name": "stdout",
     "output_type": "stream",
     "text": [
      "[2 2 2 2 2 2 2 2 2 2 2 2 2 2 1 2 1 2 2 1 1 1 1 2 2 1 2 2 2 2 2 2 2 2 2 2 1\n",
      " 1 1 2 2 2 1 2 1 1 2 2 1 1 1 2 2 1 2 2 2 1 2 1 1 2 2 1 1 1 2 2 2 1 2 2 2 1\n",
      " 1 2 2 1 1 2 2 1 2 2 1 2 1 1 2 1 1 1 1 2 2 2 1 1 2 1 2 2 1 1 2 2 1 1 2 1 1\n",
      " 1 2 1 1 2 2 2 2 2 2 1 2 1 2 1 2 1 1 2 1 2 1 2 2 2 1 2 2 2 1 1 2 2 2 2 2 2\n",
      " 1 2 2 1 1 2 1 1 1 2 1 1 1 2 2 1 2 1 1 2 1 1 1 2 1 1 1 2 2 1 2 2 2 2 1 2 2\n",
      " 1 2 1 1 2 2 2 1 1 1 2 2 1 2 1 1 1 1 1 2 1 1 2 1 1 1 1 2 1 2 1 1 2 1 2 2 1\n",
      " 2 2 2 2 2 1 1 1 1 2 2 1 1 1 2 1 1 1 1 2 1 2 1 2 1 2 2 1 1 1 1 1 2 1 1 2 1\n",
      " 2 1 1 1 2 2 2 1 2 2 2 2 1 2 2 1 2 2 1 1 2 2 1 1 2 1 1 1 2 1 2 2 2 2 2 2 2\n",
      " 1 2 1 2 1 2 2 1 1 2 2 2 2 2 2 1 2 1 1 1 2 2 2 1 1 2 1 2 1 1 2 2 2 2 2 2 1\n",
      " 2 2 2 2 1 2 2 1 1 1 2 1 1 2 1 2 1 2 2 2 2 1 2 2 2 2 1 1 2 2 1 2 1 2 1 2 1\n",
      " 1 2 2 2 1 2 2 2 1 1 2 1 2 1 1 2 1 2 2 2 2 1 1 2 1 2 1 2 1 2 2 1 2 1 2 2 1\n",
      " 2 1 1 1 2 2 1 1 1 2 1 2 2 1 1 2 2 2 1 2 2 2 1 2 1 2 2 2 1 2 1 2 2 2 2 1 2\n",
      " 2 1 2 1 1 2 2 1 1 1 1 2 1 1 2 1 2 1 2 1 2 2 2 2 2 2 2 1 2 1 1 2 2 1 2 2 1\n",
      " 1 2 1 2 1 1 2 1 2 1 1 2 1 2 2 1 2 2 2 1 2 1 2 2 2 2 1 1 1 2 1 1 2 2 1 1 1\n",
      " 1 1 1 2 2 1 1 1 2 2 1 2 1 2 1 1 2 2 2 2 1 1 1 2 2 1 2 2 2 2 2 1 1 2 1 2 1\n",
      " 1 1 2 1 2 1 1 1 2 1 2 2 1 2 1 1 2 1 1 1 2 2 2 1 2 2 1 1 1 2 1 2 1 1 1 2 1\n",
      " 1 1 2 2 1 1 1 1 2 2 1 1 1 1 2 2 1 1 1 2 2 2 2 2 1 2 1 1 2 1 2 2 1 1 2 2 1\n",
      " 2 1 1 1 1 1 1 2 1 2 1 2 1 1 2 2 1 1 2 1 2 2 1 2 2 1 1 2 2 1 2 1 1 1 1 1 1\n",
      " 2 1 2 2 2 2 2 2 2 1 2 2 2 1 1 1 2 1 2 2 2 2 2 2 1 1 1 1 2 2 2 2 1 1 1 2 1\n",
      " 2 1 2 1 2 2 1 2 1 2 2 1 2 1 1 1 1 1 1 1 2 2 2 1 2 1 2 1 2 1 1 2 2 1 1 1 1\n",
      " 2 2 1 1 2 1 1 2 1 2 2 2 1 2 2 2 2 1 2 1 1 1 2 2 2 1 1 2 2 1 1 1 1 2 2 1 2\n",
      " 1 1 2 1 1 2 1 1 1 2 1 2 2 1 1 1 2 2 1 1 2 2 2]\n"
     ]
    }
   ],
   "source": [
    "classifier = KNeighborsClassifier(n_neighbors=31)\n",
    "classifier.fit(X_train, y_train)\n",
    "\n",
    "y_pred = classifier.predict(X_test)\n",
    "print(y_pred)"
   ]
  }
 ],
 "metadata": {
  "interpreter": {
   "hash": "484cce2478864f23a13ce35c2ac9fe4858aa1a5b6715cc323af9a9a9f066ffec"
  },
  "kernelspec": {
   "display_name": "Python 3.8.12 64-bit ('cs101': conda)",
   "name": "python3"
  },
  "language_info": {
   "codemirror_mode": {
    "name": "ipython",
    "version": 3
   },
   "file_extension": ".py",
   "mimetype": "text/x-python",
   "name": "python",
   "nbconvert_exporter": "python",
   "pygments_lexer": "ipython3",
   "version": "3.8.12"
  },
  "orig_nbformat": 4
 },
 "nbformat": 4,
 "nbformat_minor": 2
}