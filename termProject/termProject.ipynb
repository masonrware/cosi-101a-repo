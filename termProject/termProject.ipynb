{
 "cells": [
  {
   "cell_type": "code",
   "execution_count": null,
   "metadata": {},
   "outputs": [],
   "source": []
  }
 ],
 "metadata": {
  "interpreter": {
   "hash": "484cce2478864f23a13ce35c2ac9fe4858aa1a5b6715cc323af9a9a9f066ffec"
  },
  "kernelspec": {
   "display_name": "Python 3.8.12 64-bit ('cs101': conda)",
   "name": "python3"
  },
  "language_info": {
   "name": "python",
   "version": ""
  },
  "orig_nbformat": 4
 },
 "nbformat": 4,
 "nbformat_minor": 2
}