{
 "cells": [
  {
   "cell_type": "code",
   "execution_count": 9,
   "metadata": {},
   "outputs": [],
   "source": [
    "import matplotlib.pyplot as plt\n",
    "from torchvision import datasets, transforms\n",
    "from torch.utils.data import DataLoader\n",
    "import torch.nn as nn\n",
    "import torch.nn.functional as F\n",
    "import torch.optim as optim\n",
    "import torch\n",
    "from tqdm import tqdm"
   ]
  },
  {
   "cell_type": "code",
   "execution_count": 10,
   "metadata": {},
   "outputs": [],
   "source": [
    "\"Hyper parameters\"\n",
    "batch_size_train = 64\n",
    "batch_size_val = 1000\n",
    "n_epochs = 80\n",
    "learning_rate = 0.0013\n",
    "momentum = 0.5"
   ]
  },
  {
   "cell_type": "code",
   "execution_count": 11,
   "metadata": {},
   "outputs": [
    {
     "name": "stdout",
     "output_type": "stream",
     "text": [
      "my input data size:  torch.Size([1, 40, 114])\n"
     ]
    }
   ],
   "source": [
    "\"load the data from the folders\"\n",
    "def get_data():\n",
    "    data_dir = '/Users/xiaodanwu/Desktop/8th/AI/final.project/data' #change here the path \n",
    "\n",
    "    transform = transforms.Compose([transforms.Grayscale(num_output_channels=1),transforms.Resize((40,114)),transforms.ToTensor(),transforms.Normalize((0.5,), (0.5,)),])\n",
    "\n",
    "    # ImageFolder automatically assign labels to imgs using the name of their folder\n",
    "    train_set = datasets.ImageFolder(data_dir + '/train',transform=transform)\n",
    "    val_set = datasets.ImageFolder(data_dir + '/val',transform=transform)\n",
    "    \n",
    "    img, label = train_set[0]\n",
    "    print(\"my input data size: \", img.shape)\n",
    "\n",
    "    train_loader = DataLoader(train_set, batch_size=batch_size_train, shuffle=True)\n",
    "    val_loader = DataLoader(val_set, batch_size=batch_size_val, shuffle=True)\n",
    "\n",
    "    return train_loader, val_loader\n",
    "train_loader, val_loader = get_data()\n"
   ]
  },
  {
   "cell_type": "code",
   "execution_count": 12,
   "metadata": {},
   "outputs": [
    {
     "data": {
      "image/png": "[encoded data removed]",
      "text/plain": [
       "<Figure size 1440x576 with 5 Axes>"
      ]
     },
     "metadata": {
      "needs_background": "light"
     },
     "output_type": "display_data"
    },
    {
     "name": "stdout",
     "output_type": "stream",
     "text": [
      "torch.Size([64, 1, 40, 114])\n"
     ]
    }
   ],
   "source": [
    "\"visualize first 5 images\"\n",
    "def train_imshow(train_loader):\n",
    "    classes = ('1', '10', '2', '3', '4', '5', '6', '7', '8', '9') # Defining the classes we have\n",
    "    dataiter = iter(train_loader)\n",
    "    images, labels = dataiter.next()\n",
    "    fig, axes = plt.subplots(figsize=(20, 8), ncols=5)\n",
    "    for i in range(5):\n",
    "        ax = axes[i]\n",
    "        ax.imshow(images[i].permute(1,2,0).squeeze()) \n",
    "        ax.title.set_text(' '.join('%5s' % classes[labels[i]]))\n",
    "    plt.show()\n",
    "train_imshow(train_loader)\n",
    "for i, (images, labels) in enumerate(train_loader):\n",
    "    print(images.shape)\n",
    "    break"
   ]
  },
  {
   "cell_type": "code",
   "execution_count": 17,
   "metadata": {},
   "outputs": [],
   "source": [
    "\"define the cnn model\"\n",
    "class Net(nn.Module):\n",
    "    def __init__(self):\n",
    "        super(Net, self).__init__()\n",
    "        self.conv1 = nn.Conv2d(1, 10, kernel_size=5)\n",
    "        self.conv2 = nn.Conv2d(10, 20, kernel_size=5)\n",
    "        self.conv2_drop = nn.Dropout2d(0.2)\n",
    "        self.fc1 = nn.Linear(3500, 50)\n",
    "        self.fc2 = nn.Linear(50, 10)\n",
    "\n",
    "    def forward(self, x):\n",
    "        x = F.relu(F.max_pool2d(self.conv1(x), 2))\n",
    "        x = F.relu(F.max_pool2d(self.conv2_drop(self.conv2(x)), 2))\n",
    "        x = x.view(-1, 20*7*25)\n",
    "        x = F.relu(self.fc1(x))\n",
    "        x = F.dropout(x, training=self.training)\n",
    "        x = self.fc2(x)\n",
    "        return F.log_softmax(x, -1)\n"
   ]
  },
  {
   "cell_type": "code",
   "execution_count": 18,
   "metadata": {},
   "outputs": [],
   "source": [
    "def test(model, test_loader, device):\n",
    "    # evaluation, freeze \n",
    "    model.eval()\n",
    "    total_num = 0\n",
    "    total_correct = 0\n",
    "    with torch.no_grad():\n",
    "        for _, (data, target) in enumerate(test_loader):\n",
    "            \n",
    "            data = data.to(device)\n",
    "            target = target.to(device)\n",
    "            \n",
    "            predict_one_hot = model(data)\n",
    "            \n",
    "            _, predict_label = torch.max(predict_one_hot, 1)\n",
    "            print(\"llllll\",predict_label)\n",
    "            total_correct += (predict_label == target).sum().item()\n",
    "            total_num += target.size(0)\n",
    "        \n",
    "    return (total_correct / total_num)"
   ]
  },
  {
   "cell_type": "code",
   "execution_count": 19,
   "metadata": {},
   "outputs": [],
   "source": [
    "\"define the training procedure\"\n",
    "def train(model, train_loader, test_loader, num_epoch, learning_rate, momentum, device):\n",
    "    train_losses = []\n",
    "    # 1, define optimizer\n",
    "    \"TODO: try different optimizer\"\n",
    "    optimizer = optim.Adam(network.parameters(), lr=learning_rate)\n",
    "\n",
    "    for epoch in tqdm(range(num_epoch)):\n",
    "        # train the model\n",
    "        model.train()\n",
    "        for i, (data, target) in enumerate(train_loader):\n",
    "            \n",
    "            data = data.to(device)\n",
    "            target = target.to(device)\n",
    "            optimizer.zero_grad()\n",
    "            \n",
    "            # 2, forward\n",
    "            output = network(data)\n",
    "            \n",
    "            # 3, calculate the loss\n",
    "            \"TODO: try use cross entropy loss instead \"\n",
    "            loss = F.nll_loss(output, target)\n",
    "            \n",
    "            # 4, backward\n",
    "            loss.backward()\n",
    "            optimizer.step()\n",
    "        # evaluate the accuracy on test data for each epoch\n",
    "        accuracy = test(model, test_loader, device)\n",
    "        print('accuracy', accuracy)\n",
    "        print(\"loss: \",loss)\n",
    "        \n",
    "    # 5, save model\n",
    "    \"TODO: change the number of epochs save the model with the best prediction accuracy\""
   ]
  },
  {
   "cell_type": "code",
   "execution_count": 20,
   "metadata": {},
   "outputs": [
    {
     "name": "stderr",
     "output_type": "stream",
     "text": [
      "  1%|▏         | 1/80 [00:01<02:31,  1.92s/it]"
     ]
    },
    {
     "name": "stdout",
     "output_type": "stream",
     "text": [
      "llllll tensor([3, 3, 3, 3, 3, 3, 3, 3, 3, 3, 3, 3, 3, 3, 3, 3, 3, 3, 3, 3, 3, 3, 3, 3,\n",
      "        3, 3, 3, 3, 3, 3, 3, 3, 3, 3, 3, 3, 3, 3, 3, 3, 3, 3, 3, 3, 3, 3, 3, 3,\n",
      "        3, 3, 3, 3, 3, 3, 3, 3, 3, 3, 3, 3, 3, 3, 3, 3, 3, 3, 3, 3, 3, 3, 3, 3,\n",
      "        3, 3, 3, 3, 3, 3, 3, 3, 3, 3, 3, 3, 3, 3, 3, 3, 3, 3, 3, 3, 3, 3, 3, 3,\n",
      "        3, 3, 3, 3, 3, 3, 3, 3, 3, 3, 3, 3, 3, 3, 3, 3, 3, 3, 3, 3, 3, 3, 3, 3,\n",
      "        3, 3, 3, 3, 3, 3, 3, 3, 3, 3, 3, 3, 3, 3, 3, 3, 3, 3, 3, 3, 3, 3, 3, 3,\n",
      "        3, 3, 3, 3, 3, 3, 3, 3, 3, 3, 3, 3, 3, 3, 3, 3, 3, 3, 3, 3, 3, 3, 3, 3,\n",
      "        3, 3, 3, 3, 3, 3, 3, 3, 3, 3, 3, 3])\n",
      "accuracy 0.1\n",
      "loss:  tensor(2.2905, grad_fn=<NllLossBackward0>)\n"
     ]
    },
    {
     "name": "stderr",
     "output_type": "stream",
     "text": [
      "  2%|▎         | 2/80 [00:03<02:27,  1.89s/it]"
     ]
    },
    {
     "name": "stdout",
     "output_type": "stream",
     "text": [
      "llllll tensor([1, 1, 1, 1, 1, 1, 1, 1, 1, 1, 1, 1, 1, 1, 1, 1, 1, 1, 1, 1, 1, 1, 1, 1,\n",
      "        1, 1, 1, 1, 1, 1, 1, 1, 1, 1, 1, 1, 1, 1, 1, 1, 1, 1, 1, 1, 1, 1, 1, 1,\n",
      "        1, 1, 1, 1, 1, 1, 1, 1, 1, 1, 1, 1, 1, 1, 1, 1, 1, 1, 1, 1, 1, 1, 1, 1,\n",
      "        1, 1, 1, 1, 1, 1, 1, 1, 1, 1, 1, 1, 1, 1, 1, 1, 1, 1, 1, 1, 1, 1, 1, 1,\n",
      "        1, 1, 1, 1, 1, 1, 1, 1, 1, 1, 1, 1, 1, 1, 1, 1, 1, 1, 1, 1, 1, 1, 1, 1,\n",
      "        1, 1, 1, 1, 1, 1, 1, 1, 1, 1, 1, 1, 1, 1, 1, 1, 1, 1, 1, 1, 1, 1, 1, 1,\n",
      "        1, 1, 1, 1, 1, 1, 1, 1, 1, 1, 1, 1, 1, 1, 1, 1, 1, 1, 1, 1, 1, 1, 1, 1,\n",
      "        1, 1, 1, 1, 1, 1, 1, 1, 1, 1, 1, 1])\n",
      "accuracy 0.1\n",
      "loss:  tensor(2.3023, grad_fn=<NllLossBackward0>)\n"
     ]
    },
    {
     "name": "stderr",
     "output_type": "stream",
     "text": [
      "  4%|▍         | 3/80 [00:05<02:23,  1.87s/it]"
     ]
    },
    {
     "name": "stdout",
     "output_type": "stream",
     "text": [
      "llllll tensor([3, 3, 3, 3, 3, 3, 3, 3, 3, 3, 1, 3, 3, 3, 3, 3, 1, 3, 3, 1, 3, 3, 3, 3,\n",
      "        3, 3, 3, 3, 3, 3, 1, 3, 3, 3, 3, 3, 3, 3, 3, 1, 3, 3, 3, 3, 3, 3, 3, 3,\n",
      "        1, 3, 3, 3, 3, 3, 3, 1, 3, 3, 3, 3, 3, 3, 3, 3, 3, 3, 3, 3, 3, 3, 3, 3,\n",
      "        3, 3, 3, 3, 3, 3, 3, 3, 1, 3, 1, 3, 3, 3, 3, 3, 3, 3, 3, 3, 3, 3, 3, 3,\n",
      "        3, 3, 3, 3, 3, 3, 3, 3, 3, 3, 3, 3, 3, 3, 3, 3, 3, 3, 3, 3, 3, 3, 3, 3,\n",
      "        1, 3, 3, 3, 3, 3, 3, 1, 3, 3, 3, 3, 3, 3, 3, 3, 3, 3, 3, 3, 3, 3, 3, 3,\n",
      "        3, 3, 3, 3, 3, 3, 3, 3, 3, 3, 3, 3, 3, 3, 3, 3, 3, 3, 3, 3, 3, 1, 3, 3,\n",
      "        3, 3, 3, 3, 3, 1, 3, 3, 3, 3, 3, 3])\n",
      "accuracy 0.12777777777777777\n",
      "loss:  tensor(2.2994, grad_fn=<NllLossBackward0>)\n"
     ]
    },
    {
     "name": "stderr",
     "output_type": "stream",
     "text": [
      "  5%|▌         | 4/80 [00:07<02:20,  1.85s/it]"
     ]
    },
    {
     "name": "stdout",
     "output_type": "stream",
     "text": [
      "llllll tensor([1, 1, 1, 1, 1, 1, 1, 1, 1, 1, 1, 1, 1, 1, 1, 1, 1, 1, 1, 1, 1, 1, 1, 1,\n",
      "        1, 1, 1, 1, 1, 1, 1, 1, 1, 1, 1, 1, 1, 1, 1, 1, 1, 1, 1, 1, 1, 1, 1, 1,\n",
      "        1, 1, 1, 1, 1, 1, 1, 1, 1, 1, 1, 1, 1, 1, 1, 1, 1, 1, 1, 1, 1, 1, 1, 1,\n",
      "        1, 1, 1, 1, 1, 1, 1, 1, 1, 1, 1, 1, 1, 1, 1, 1, 1, 1, 1, 1, 1, 1, 1, 1,\n",
      "        1, 1, 1, 1, 1, 1, 1, 1, 1, 1, 1, 1, 1, 1, 1, 1, 1, 1, 1, 1, 1, 1, 1, 1,\n",
      "        1, 1, 1, 1, 1, 1, 1, 1, 1, 1, 1, 1, 1, 1, 1, 1, 1, 1, 1, 1, 1, 1, 1, 1,\n",
      "        1, 1, 1, 1, 1, 1, 1, 1, 1, 1, 1, 1, 1, 1, 1, 1, 1, 5, 1, 1, 1, 1, 1, 1,\n",
      "        1, 1, 1, 1, 1, 1, 1, 1, 1, 1, 1, 1])\n",
      "accuracy 0.10555555555555556\n",
      "loss:  tensor(2.2329, grad_fn=<NllLossBackward0>)\n"
     ]
    },
    {
     "name": "stderr",
     "output_type": "stream",
     "text": [
      "  6%|▋         | 5/80 [00:09<02:17,  1.84s/it]"
     ]
    },
    {
     "name": "stdout",
     "output_type": "stream",
     "text": [
      "llllll tensor([1, 1, 6, 1, 1, 1, 1, 1, 1, 1, 1, 3, 1, 1, 1, 1, 1, 1, 1, 1, 5, 3, 1, 1,\n",
      "        1, 1, 1, 1, 1, 1, 5, 1, 1, 1, 3, 1, 1, 1, 1, 5, 1, 1, 1, 1, 6, 6, 1, 5,\n",
      "        1, 1, 1, 1, 1, 1, 1, 1, 1, 6, 1, 6, 1, 1, 1, 3, 1, 1, 1, 1, 1, 1, 1, 1,\n",
      "        3, 1, 3, 1, 1, 1, 3, 1, 3, 1, 3, 1, 1, 1, 1, 1, 1, 1, 1, 1, 1, 1, 1, 1,\n",
      "        1, 1, 6, 6, 3, 5, 1, 1, 1, 1, 1, 1, 3, 1, 3, 1, 1, 1, 1, 1, 3, 1, 1, 1,\n",
      "        1, 1, 3, 1, 1, 1, 1, 1, 1, 6, 1, 1, 1, 1, 1, 1, 1, 1, 1, 1, 1, 1, 1, 6,\n",
      "        1, 1, 1, 1, 1, 3, 1, 1, 1, 1, 1, 1, 1, 1, 1, 1, 1, 1, 1, 1, 3, 1, 1, 1,\n",
      "        1, 6, 1, 1, 5, 1, 1, 1, 1, 1, 1, 3])\n",
      "accuracy 0.13333333333333333\n",
      "loss:  tensor(2.2474, grad_fn=<NllLossBackward0>)\n"
     ]
    },
    {
     "name": "stderr",
     "output_type": "stream",
     "text": [
      "  8%|▊         | 6/80 [00:10<02:15,  1.83s/it]"
     ]
    },
    {
     "name": "stdout",
     "output_type": "stream",
     "text": [
      "llllll tensor([1, 1, 1, 3, 6, 1, 3, 1, 3, 1, 1, 3, 1, 3, 1, 1, 1, 1, 1, 3, 1, 3, 1, 1,\n",
      "        1, 1, 6, 1, 6, 3, 3, 1, 3, 1, 6, 3, 1, 3, 9, 1, 5, 6, 6, 1, 3, 1, 1, 1,\n",
      "        3, 3, 1, 1, 3, 1, 1, 1, 3, 6, 1, 1, 6, 1, 1, 3, 6, 1, 3, 1, 9, 1, 1, 3,\n",
      "        1, 3, 3, 3, 1, 3, 3, 3, 3, 3, 8, 3, 8, 1, 3, 1, 6, 1, 6, 1, 1, 1, 6, 1,\n",
      "        3, 1, 3, 3, 3, 6, 1, 1, 1, 1, 1, 6, 1, 1, 1, 1, 6, 6, 1, 5, 3, 1, 1, 1,\n",
      "        1, 1, 1, 3, 1, 9, 1, 3, 1, 3, 1, 1, 5, 1, 3, 1, 1, 1, 6, 1, 1, 1, 3, 3,\n",
      "        1, 6, 3, 3, 1, 1, 9, 1, 3, 1, 1, 3, 1, 3, 6, 1, 1, 3, 8, 1, 1, 1, 1, 9,\n",
      "        3, 9, 1, 1, 1, 3, 1, 6, 1, 9, 9, 8])\n",
      "accuracy 0.18333333333333332\n",
      "loss:  tensor(2.2106, grad_fn=<NllLossBackward0>)\n"
     ]
    },
    {
     "name": "stderr",
     "output_type": "stream",
     "text": [
      "  9%|▉         | 7/80 [00:12<02:12,  1.82s/it]"
     ]
    },
    {
     "name": "stdout",
     "output_type": "stream",
     "text": [
      "llllll tensor([6, 7, 1, 1, 5, 1, 6, 1, 1, 1, 5, 6, 1, 6, 6, 6, 1, 1, 1, 1, 1, 6, 6, 6,\n",
      "        6, 6, 6, 1, 6, 6, 6, 9, 1, 1, 6, 1, 9, 9, 6, 1, 6, 6, 1, 1, 1, 1, 6, 1,\n",
      "        1, 6, 1, 1, 6, 1, 1, 1, 1, 6, 1, 1, 6, 6, 1, 1, 1, 1, 1, 1, 6, 1, 1, 6,\n",
      "        6, 6, 9, 5, 6, 6, 1, 6, 9, 6, 1, 6, 1, 6, 1, 1, 1, 5, 6, 1, 1, 9, 1, 1,\n",
      "        1, 1, 1, 9, 1, 1, 6, 9, 1, 6, 1, 6, 6, 1, 6, 6, 1, 6, 7, 1, 1, 6, 1, 1,\n",
      "        6, 1, 1, 6, 6, 1, 1, 1, 6, 6, 9, 1, 1, 1, 1, 9, 6, 2, 1, 1, 6, 1, 1, 1,\n",
      "        6, 6, 1, 6, 6, 2, 6, 6, 1, 6, 9, 1, 1, 6, 6, 6, 6, 6, 1, 1, 6, 6, 6, 8,\n",
      "        1, 1, 6, 1, 1, 1, 1, 1, 6, 6, 1, 5])\n",
      "accuracy 0.2\n",
      "loss:  tensor(2.0516, grad_fn=<NllLossBackward0>)\n"
     ]
    },
    {
     "name": "stderr",
     "output_type": "stream",
     "text": [
      " 10%|█         | 8/80 [00:14<02:10,  1.82s/it]"
     ]
    },
    {
     "name": "stdout",
     "output_type": "stream",
     "text": [
      "llllll tensor([6, 6, 5, 1, 3, 1, 9, 6, 9, 9, 5, 5, 8, 5, 9, 6, 3, 3, 1, 3, 6, 9, 6, 9,\n",
      "        6, 3, 1, 9, 9, 1, 6, 6, 6, 1, 9, 1, 1, 9, 6, 9, 3, 6, 1, 8, 5, 6, 5, 1,\n",
      "        9, 6, 5, 6, 6, 1, 1, 1, 3, 5, 1, 1, 8, 3, 1, 8, 1, 6, 5, 3, 6, 1, 6, 3,\n",
      "        9, 6, 3, 3, 6, 5, 9, 6, 1, 6, 9, 1, 7, 6, 0, 1, 6, 1, 8, 1, 1, 3, 1, 9,\n",
      "        9, 6, 1, 8, 9, 5, 8, 1, 6, 1, 8, 6, 1, 7, 7, 6, 5, 1, 1, 1, 1, 6, 6, 5,\n",
      "        5, 9, 1, 3, 6, 1, 3, 1, 3, 1, 1, 6, 9, 1, 5, 6, 6, 1, 6, 6, 3, 1, 6, 6,\n",
      "        1, 6, 5, 6, 1, 3, 3, 6, 9, 9, 6, 6, 3, 3, 9, 9, 7, 5, 8, 7, 6, 1, 3, 9,\n",
      "        7, 1, 3, 3, 6, 9, 6, 7, 9, 1, 9, 1])\n",
      "accuracy 0.2833333333333333\n",
      "loss:  tensor(1.9072, grad_fn=<NllLossBackward0>)\n"
     ]
    },
    {
     "name": "stderr",
     "output_type": "stream",
     "text": [
      " 11%|█▏        | 9/80 [00:16<02:08,  1.81s/it]"
     ]
    },
    {
     "name": "stdout",
     "output_type": "stream",
     "text": [
      "llllll tensor([8, 1, 6, 6, 9, 8, 7, 6, 6, 6, 6, 3, 8, 7, 9, 8, 7, 3, 2, 8, 7, 5, 6, 1,\n",
      "        7, 6, 6, 7, 8, 6, 6, 8, 3, 6, 8, 6, 5, 6, 1, 2, 2, 2, 1, 5, 8, 9, 6, 6,\n",
      "        6, 8, 6, 1, 1, 8, 9, 2, 5, 3, 6, 3, 2, 1, 8, 1, 6, 7, 8, 9, 5, 6, 7, 9,\n",
      "        8, 8, 1, 6, 8, 8, 8, 6, 6, 7, 7, 3, 8, 6, 1, 1, 8, 5, 8, 2, 1, 6, 1, 7,\n",
      "        6, 2, 6, 2, 9, 2, 1, 9, 2, 8, 2, 6, 6, 1, 6, 6, 1, 8, 8, 1, 6, 1, 6, 5,\n",
      "        6, 7, 7, 3, 6, 1, 8, 6, 8, 8, 1, 8, 8, 1, 1, 8, 6, 5, 8, 7, 8, 9, 7, 7,\n",
      "        8, 1, 2, 6, 6, 6, 8, 6, 6, 1, 8, 6, 6, 6, 1, 3, 1, 8, 6, 6, 8, 6, 1, 1,\n",
      "        3, 3, 8, 1, 8, 2, 8, 6, 8, 9, 6, 3])\n",
      "accuracy 0.3277777777777778\n",
      "loss:  tensor(1.9755, grad_fn=<NllLossBackward0>)\n"
     ]
    },
    {
     "name": "stderr",
     "output_type": "stream",
     "text": [
      " 12%|█▎        | 10/80 [00:18<02:06,  1.81s/it]"
     ]
    },
    {
     "name": "stdout",
     "output_type": "stream",
     "text": [
      "llllll tensor([8, 5, 6, 6, 3, 5, 7, 6, 7, 6, 8, 1, 6, 6, 5, 1, 3, 7, 1, 5, 9, 3, 6, 6,\n",
      "        7, 6, 1, 0, 3, 1, 6, 6, 6, 6, 8, 5, 5, 6, 7, 9, 1, 7, 5, 6, 8, 7, 5, 1,\n",
      "        6, 3, 8, 8, 7, 6, 7, 9, 3, 9, 9, 5, 1, 1, 7, 9, 1, 6, 1, 7, 9, 9, 9, 9,\n",
      "        7, 8, 7, 6, 5, 7, 1, 5, 1, 8, 9, 5, 6, 5, 3, 6, 3, 1, 7, 7, 7, 9, 7, 8,\n",
      "        1, 1, 1, 9, 5, 8, 1, 1, 8, 7, 1, 5, 5, 1, 6, 6, 5, 6, 3, 1, 1, 3, 1, 7,\n",
      "        6, 7, 1, 1, 6, 1, 7, 8, 5, 7, 1, 3, 7, 6, 1, 6, 1, 3, 5, 8, 8, 6, 1, 7,\n",
      "        6, 1, 5, 7, 3, 1, 3, 1, 9, 1, 6, 5, 6, 0, 6, 6, 8, 8, 6, 5, 6, 3, 7, 8,\n",
      "        7, 3, 7, 8, 5, 1, 6, 5, 1, 7, 8, 1])\n",
      "accuracy 0.37777777777777777\n",
      "loss:  tensor(1.8587, grad_fn=<NllLossBackward0>)\n"
     ]
    },
    {
     "name": "stderr",
     "output_type": "stream",
     "text": [
      " 14%|█▍        | 11/80 [00:20<02:04,  1.81s/it]"
     ]
    },
    {
     "name": "stdout",
     "output_type": "stream",
     "text": [
      "llllll tensor([7, 7, 5, 7, 5, 8, 8, 7, 9, 7, 6, 5, 1, 7, 1, 6, 1, 7, 1, 6, 9, 7, 3, 8,\n",
      "        7, 7, 5, 5, 8, 8, 6, 5, 6, 1, 9, 7, 7, 3, 5, 3, 7, 5, 6, 9, 5, 1, 6, 9,\n",
      "        6, 3, 7, 9, 8, 7, 3, 5, 7, 8, 9, 6, 1, 5, 5, 8, 5, 8, 9, 1, 5, 5, 9, 1,\n",
      "        9, 7, 5, 8, 5, 9, 9, 0, 5, 8, 1, 8, 8, 7, 9, 7, 6, 3, 7, 7, 3, 5, 1, 5,\n",
      "        7, 3, 5, 3, 5, 1, 3, 7, 7, 6, 6, 3, 8, 7, 5, 6, 5, 9, 5, 8, 3, 6, 6, 9,\n",
      "        1, 3, 0, 1, 5, 5, 6, 6, 5, 7, 6, 6, 5, 9, 9, 7, 7, 3, 6, 9, 5, 3, 5, 4,\n",
      "        8, 9, 1, 8, 5, 5, 8, 1, 8, 8, 1, 5, 6, 9, 1, 5, 8, 9, 1, 9, 3, 7, 9, 6,\n",
      "        7, 8, 5, 4, 8, 1, 3, 5, 3, 8, 1, 9])\n",
      "accuracy 0.4388888888888889\n",
      "loss:  tensor(1.6960, grad_fn=<NllLossBackward0>)\n"
     ]
    },
    {
     "name": "stderr",
     "output_type": "stream",
     "text": [
      " 15%|█▌        | 12/80 [00:21<02:03,  1.81s/it]"
     ]
    },
    {
     "name": "stdout",
     "output_type": "stream",
     "text": [
      "llllll tensor([0, 1, 1, 2, 6, 6, 7, 2, 9, 9, 4, 2, 6, 7, 9, 9, 5, 8, 1, 7, 7, 4, 9, 7,\n",
      "        6, 7, 4, 6, 6, 1, 0, 1, 1, 9, 2, 1, 1, 8, 5, 2, 6, 2, 6, 6, 5, 9, 4, 4,\n",
      "        0, 5, 1, 3, 9, 8, 6, 7, 7, 6, 9, 4, 3, 7, 8, 6, 6, 6, 6, 8, 7, 9, 0, 2,\n",
      "        4, 1, 1, 0, 2, 9, 7, 2, 9, 1, 8, 6, 1, 6, 9, 9, 7, 8, 9, 1, 9, 7, 8, 6,\n",
      "        9, 4, 7, 2, 7, 2, 2, 6, 6, 2, 3, 7, 1, 4, 9, 4, 7, 9, 6, 1, 4, 1, 1, 2,\n",
      "        9, 6, 2, 5, 7, 1, 6, 6, 2, 8, 7, 4, 6, 2, 4, 6, 7, 9, 9, 5, 1, 1, 2, 7,\n",
      "        2, 9, 5, 6, 4, 7, 7, 6, 1, 2, 2, 6, 9, 6, 6, 6, 1, 9, 6, 4, 9, 6, 6, 6,\n",
      "        9, 6, 3, 2, 6, 6, 6, 4, 1, 6, 9, 1])\n",
      "accuracy 0.4166666666666667\n",
      "loss:  tensor(1.9266, grad_fn=<NllLossBackward0>)\n"
     ]
    },
    {
     "name": "stderr",
     "output_type": "stream",
     "text": [
      " 16%|█▋        | 13/80 [00:23<02:01,  1.81s/it]"
     ]
    },
    {
     "name": "stdout",
     "output_type": "stream",
     "text": [
      "llllll tensor([5, 3, 3, 3, 6, 9, 8, 1, 9, 1, 7, 2, 1, 6, 3, 6, 4, 6, 1, 8, 1, 9, 6, 6,\n",
      "        9, 8, 1, 6, 6, 3, 9, 4, 3, 1, 8, 8, 6, 5, 7, 8, 9, 2, 3, 7, 6, 1, 8, 4,\n",
      "        9, 7, 9, 6, 7, 2, 5, 8, 9, 6, 3, 6, 9, 0, 6, 5, 7, 9, 1, 8, 1, 8, 1, 1,\n",
      "        7, 4, 3, 4, 1, 5, 9, 6, 6, 1, 9, 1, 3, 6, 6, 5, 5, 8, 9, 7, 7, 1, 9, 7,\n",
      "        4, 7, 6, 6, 3, 1, 7, 5, 1, 3, 2, 7, 1, 0, 5, 7, 8, 9, 2, 7, 6, 9, 6, 7,\n",
      "        3, 8, 6, 3, 1, 7, 7, 8, 9, 6, 3, 1, 5, 6, 3, 8, 7, 3, 9, 6, 1, 8, 7, 7,\n",
      "        8, 4, 1, 6, 8, 5, 8, 5, 7, 4, 5, 7, 3, 8, 7, 4, 2, 9, 6, 7, 1, 8, 9, 3,\n",
      "        3, 0, 3, 7, 6, 9, 9, 8, 8, 3, 9, 6])\n",
      "accuracy 0.4666666666666667\n",
      "loss:  tensor(1.9175, grad_fn=<NllLossBackward0>)\n"
     ]
    },
    {
     "name": "stderr",
     "output_type": "stream",
     "text": [
      " 18%|█▊        | 14/80 [00:25<02:00,  1.82s/it]"
     ]
    },
    {
     "name": "stdout",
     "output_type": "stream",
     "text": [
      "llllll tensor([8, 2, 5, 8, 6, 1, 2, 6, 4, 1, 7, 3, 1, 0, 1, 6, 8, 9, 9, 6, 1, 0, 7, 5,\n",
      "        8, 1, 7, 0, 7, 7, 6, 6, 9, 8, 1, 7, 1, 6, 4, 7, 8, 7, 3, 3, 0, 7, 6, 2,\n",
      "        6, 4, 1, 9, 7, 8, 7, 5, 1, 1, 9, 3, 6, 3, 7, 9, 6, 8, 1, 0, 5, 1, 1, 7,\n",
      "        6, 2, 5, 7, 0, 5, 7, 9, 7, 7, 6, 0, 8, 9, 1, 6, 0, 7, 6, 6, 7, 4, 4, 5,\n",
      "        7, 9, 3, 4, 4, 6, 1, 7, 6, 5, 5, 0, 9, 6, 6, 1, 9, 9, 2, 7, 3, 6, 1, 7,\n",
      "        6, 4, 0, 4, 3, 3, 6, 4, 0, 7, 8, 4, 8, 0, 1, 9, 0, 6, 1, 9, 9, 1, 1, 5,\n",
      "        7, 6, 7, 6, 7, 7, 6, 2, 6, 9, 2, 6, 5, 8, 6, 5, 8, 6, 7, 7, 1, 4, 5, 7,\n",
      "        3, 9, 8, 0, 7, 7, 7, 4, 7, 0, 4, 6])\n",
      "accuracy 0.4166666666666667\n",
      "loss:  tensor(1.6326, grad_fn=<NllLossBackward0>)\n"
     ]
    },
    {
     "name": "stderr",
     "output_type": "stream",
     "text": [
      " 19%|█▉        | 15/80 [00:27<01:58,  1.82s/it]"
     ]
    },
    {
     "name": "stdout",
     "output_type": "stream",
     "text": [
      "llllll tensor([7, 2, 6, 6, 6, 2, 1, 5, 6, 8, 4, 4, 9, 9, 8, 4, 1, 7, 1, 6, 1, 8, 2, 6,\n",
      "        6, 6, 8, 0, 6, 5, 7, 7, 6, 5, 1, 7, 6, 0, 7, 8, 6, 7, 4, 4, 8, 9, 8, 3,\n",
      "        4, 0, 6, 5, 1, 2, 4, 7, 7, 8, 9, 2, 7, 6, 8, 8, 9, 7, 1, 8, 7, 6, 2, 5,\n",
      "        9, 8, 8, 1, 6, 5, 8, 2, 3, 7, 1, 3, 1, 8, 1, 6, 1, 1, 0, 6, 3, 6, 9, 9,\n",
      "        9, 3, 3, 0, 0, 9, 7, 6, 7, 6, 4, 6, 4, 1, 6, 0, 9, 7, 1, 5, 7, 1, 6, 9,\n",
      "        4, 2, 1, 7, 0, 4, 4, 1, 6, 6, 8, 6, 2, 8, 8, 5, 6, 6, 7, 2, 5, 3, 3, 7,\n",
      "        9, 4, 8, 3, 4, 0, 1, 6, 6, 1, 8, 8, 1, 8, 9, 5, 6, 7, 9, 7, 8, 5, 8, 0,\n",
      "        1, 8, 8, 6, 1, 4, 3, 8, 3, 6, 7, 4])\n",
      "accuracy 0.45\n",
      "loss:  tensor(1.6324, grad_fn=<NllLossBackward0>)\n"
     ]
    },
    {
     "name": "stderr",
     "output_type": "stream",
     "text": [
      " 20%|██        | 16/80 [00:29<01:56,  1.82s/it]"
     ]
    },
    {
     "name": "stdout",
     "output_type": "stream",
     "text": [
      "llllll tensor([9, 6, 7, 5, 9, 3, 6, 2, 7, 1, 5, 5, 6, 7, 6, 6, 8, 3, 9, 6, 5, 9, 7, 8,\n",
      "        3, 6, 7, 4, 8, 1, 8, 9, 5, 3, 4, 5, 9, 8, 6, 8, 9, 6, 7, 5, 7, 1, 7, 1,\n",
      "        7, 1, 7, 2, 8, 5, 8, 8, 8, 8, 5, 7, 5, 3, 7, 3, 8, 3, 7, 5, 7, 7, 1, 8,\n",
      "        1, 5, 1, 5, 5, 2, 1, 9, 5, 2, 3, 6, 5, 7, 1, 2, 2, 7, 6, 9, 0, 8, 7, 8,\n",
      "        3, 7, 1, 7, 1, 4, 6, 8, 2, 3, 1, 6, 5, 4, 8, 2, 9, 7, 4, 4, 4, 2, 0, 3,\n",
      "        8, 7, 6, 6, 1, 7, 1, 1, 5, 6, 1, 1, 3, 7, 3, 0, 7, 5, 5, 8, 1, 8, 7, 3,\n",
      "        1, 5, 3, 8, 7, 5, 5, 0, 6, 8, 4, 6, 2, 1, 4, 2, 6, 7, 0, 5, 1, 7, 6, 5,\n",
      "        1, 6, 1, 8, 3, 7, 6, 7, 0, 3, 8, 3])\n",
      "accuracy 0.45\n",
      "loss:  tensor(1.4908, grad_fn=<NllLossBackward0>)\n"
     ]
    },
    {
     "name": "stderr",
     "output_type": "stream",
     "text": [
      " 21%|██▏       | 17/80 [00:30<01:54,  1.81s/it]"
     ]
    },
    {
     "name": "stdout",
     "output_type": "stream",
     "text": [
      "llllll tensor([5, 7, 1, 1, 9, 9, 8, 4, 9, 9, 7, 6, 1, 1, 4, 9, 6, 1, 8, 1, 9, 1, 5, 6,\n",
      "        7, 3, 5, 6, 3, 1, 1, 1, 6, 7, 6, 8, 6, 6, 8, 4, 3, 9, 3, 6, 9, 2, 9, 6,\n",
      "        6, 6, 1, 7, 3, 4, 6, 9, 7, 1, 6, 6, 1, 3, 3, 6, 3, 3, 3, 8, 3, 3, 5, 4,\n",
      "        7, 6, 7, 7, 9, 9, 1, 3, 6, 6, 3, 5, 6, 9, 5, 3, 1, 9, 5, 5, 6, 5, 6, 8,\n",
      "        6, 7, 0, 6, 7, 8, 4, 1, 6, 8, 6, 1, 3, 9, 3, 7, 3, 1, 5, 8, 7, 4, 2, 6,\n",
      "        6, 8, 6, 9, 1, 0, 7, 3, 9, 5, 4, 5, 4, 1, 1, 0, 9, 2, 9, 8, 3, 3, 7, 0,\n",
      "        7, 1, 9, 6, 8, 6, 5, 7, 3, 9, 2, 9, 6, 4, 1, 9, 9, 4, 3, 0, 1, 9, 5, 3,\n",
      "        0, 0, 5, 4, 9, 7, 4, 9, 3, 7, 0, 6])\n",
      "accuracy 0.49444444444444446\n",
      "loss:  tensor(1.6033, grad_fn=<NllLossBackward0>)\n"
     ]
    },
    {
     "name": "stderr",
     "output_type": "stream",
     "text": [
      " 22%|██▎       | 18/80 [00:32<01:51,  1.80s/it]"
     ]
    },
    {
     "name": "stdout",
     "output_type": "stream",
     "text": [
      "llllll tensor([6, 1, 3, 0, 2, 5, 6, 3, 6, 6, 0, 7, 8, 6, 4, 6, 4, 1, 7, 7, 6, 6, 1, 4,\n",
      "        3, 9, 9, 7, 5, 1, 1, 4, 0, 1, 1, 4, 5, 9, 5, 5, 0, 7, 3, 4, 0, 2, 6, 8,\n",
      "        6, 6, 5, 2, 4, 2, 8, 3, 7, 5, 0, 3, 8, 5, 1, 4, 8, 1, 4, 8, 3, 0, 1, 3,\n",
      "        5, 1, 8, 0, 4, 1, 7, 1, 6, 0, 9, 3, 7, 1, 7, 1, 3, 4, 7, 7, 0, 1, 6, 6,\n",
      "        9, 1, 9, 0, 8, 8, 3, 7, 6, 4, 8, 9, 9, 5, 3, 1, 9, 5, 6, 5, 0, 8, 8, 1,\n",
      "        3, 8, 0, 9, 8, 8, 7, 1, 6, 1, 5, 4, 0, 0, 8, 0, 6, 0, 1, 3, 6, 3, 1, 9,\n",
      "        5, 8, 6, 8, 1, 8, 3, 1, 4, 5, 9, 7, 1, 3, 7, 1, 4, 6, 8, 5, 8, 3, 7, 6,\n",
      "        1, 5, 2, 1, 8, 3, 6, 1, 1, 6, 6, 6])\n",
      "accuracy 0.5277777777777778\n",
      "loss:  tensor(1.2027, grad_fn=<NllLossBackward0>)\n"
     ]
    },
    {
     "name": "stderr",
     "output_type": "stream",
     "text": [
      " 24%|██▍       | 19/80 [00:34<01:49,  1.80s/it]"
     ]
    },
    {
     "name": "stdout",
     "output_type": "stream",
     "text": [
      "llllll tensor([3, 8, 3, 6, 8, 7, 9, 3, 1, 4, 0, 6, 7, 4, 8, 8, 0, 1, 4, 6, 6, 8, 5, 6,\n",
      "        1, 9, 1, 9, 5, 0, 5, 5, 9, 9, 9, 9, 7, 5, 5, 8, 6, 9, 9, 6, 2, 6, 6, 1,\n",
      "        1, 2, 1, 7, 8, 6, 2, 4, 0, 7, 1, 0, 4, 0, 9, 3, 3, 8, 8, 6, 7, 5, 0, 5,\n",
      "        4, 1, 2, 3, 3, 0, 6, 7, 5, 0, 3, 7, 4, 9, 7, 7, 4, 8, 4, 2, 9, 6, 3, 5,\n",
      "        6, 9, 9, 1, 1, 2, 4, 1, 6, 6, 8, 8, 6, 2, 1, 4, 0, 1, 9, 5, 9, 7, 8, 2,\n",
      "        4, 5, 6, 9, 2, 7, 6, 0, 2, 0, 7, 8, 2, 7, 0, 4, 6, 2, 7, 9, 8, 6, 0, 2,\n",
      "        2, 6, 1, 0, 4, 7, 0, 4, 3, 8, 2, 8, 9, 4, 9, 6, 0, 6, 4, 6, 9, 0, 0, 0,\n",
      "        6, 2, 6, 4, 3, 3, 1, 8, 3, 9, 1, 8])\n",
      "accuracy 0.5444444444444444\n",
      "loss:  tensor(1.4090, grad_fn=<NllLossBackward0>)\n"
     ]
    },
    {
     "name": "stderr",
     "output_type": "stream",
     "text": [
      " 25%|██▌       | 20/80 [00:36<01:47,  1.80s/it]"
     ]
    },
    {
     "name": "stdout",
     "output_type": "stream",
     "text": [
      "llllll tensor([5, 7, 0, 2, 7, 6, 1, 3, 7, 1, 9, 6, 9, 0, 9, 6, 5, 6, 7, 1, 6, 3, 6, 9,\n",
      "        5, 1, 5, 7, 3, 4, 3, 4, 3, 7, 1, 8, 1, 0, 4, 4, 1, 6, 9, 3, 9, 5, 6, 6,\n",
      "        9, 6, 0, 5, 6, 7, 9, 7, 5, 0, 1, 1, 1, 9, 1, 8, 5, 7, 7, 6, 6, 3, 4, 9,\n",
      "        1, 9, 7, 9, 1, 1, 5, 3, 6, 1, 5, 9, 1, 6, 2, 5, 9, 5, 0, 1, 6, 0, 8, 7,\n",
      "        1, 4, 0, 9, 2, 6, 8, 5, 1, 1, 3, 8, 9, 9, 3, 1, 9, 5, 1, 3, 5, 3, 6, 2,\n",
      "        4, 6, 6, 1, 6, 1, 4, 6, 1, 9, 5, 1, 2, 8, 3, 8, 1, 5, 8, 1, 7, 6, 9, 6,\n",
      "        7, 0, 4, 7, 4, 1, 1, 7, 0, 4, 8, 7, 3, 1, 3, 3, 7, 6, 5, 7, 6, 8, 6, 6,\n",
      "        2, 1, 9, 4, 5, 6, 7, 3, 9, 4, 1, 3])\n",
      "accuracy 0.5333333333333333\n",
      "loss:  tensor(1.2884, grad_fn=<NllLossBackward0>)\n"
     ]
    },
    {
     "name": "stderr",
     "output_type": "stream",
     "text": [
      " 26%|██▋       | 21/80 [00:38<01:45,  1.79s/it]"
     ]
    },
    {
     "name": "stdout",
     "output_type": "stream",
     "text": [
      "llllll tensor([4, 9, 2, 7, 9, 7, 7, 4, 5, 6, 9, 9, 3, 9, 6, 4, 2, 4, 8, 6, 6, 4, 7, 7,\n",
      "        8, 0, 1, 1, 1, 8, 9, 7, 4, 3, 8, 5, 6, 4, 6, 4, 4, 9, 1, 3, 0, 6, 7, 6,\n",
      "        8, 3, 3, 9, 7, 9, 3, 8, 6, 8, 1, 6, 1, 1, 5, 3, 3, 4, 0, 1, 8, 7, 0, 6,\n",
      "        0, 5, 6, 4, 0, 1, 4, 6, 7, 4, 9, 1, 5, 8, 8, 7, 6, 8, 0, 8, 7, 0, 0, 1,\n",
      "        1, 6, 4, 4, 0, 8, 9, 8, 4, 3, 3, 3, 1, 1, 3, 9, 0, 4, 9, 7, 8, 1, 9, 4,\n",
      "        6, 4, 0, 3, 1, 1, 1, 4, 5, 5, 4, 6, 9, 7, 9, 1, 7, 0, 4, 3, 2, 0, 7, 5,\n",
      "        5, 6, 3, 3, 0, 3, 6, 4, 8, 6, 0, 1, 6, 1, 3, 6, 9, 2, 1, 6, 1, 3, 4, 9,\n",
      "        1, 4, 4, 4, 1, 8, 9, 3, 3, 1, 4, 1])\n",
      "accuracy 0.5611111111111111\n",
      "loss:  tensor(1.6693, grad_fn=<NllLossBackward0>)\n"
     ]
    },
    {
     "name": "stderr",
     "output_type": "stream",
     "text": [
      " 28%|██▊       | 22/80 [00:39<01:43,  1.79s/it]"
     ]
    },
    {
     "name": "stdout",
     "output_type": "stream",
     "text": [
      "llllll tensor([7, 1, 5, 5, 1, 3, 6, 3, 2, 1, 7, 2, 9, 8, 7, 7, 9, 0, 6, 0, 5, 3, 5, 1,\n",
      "        5, 2, 1, 3, 6, 0, 7, 1, 3, 7, 3, 4, 9, 1, 6, 3, 3, 9, 7, 6, 5, 5, 4, 1,\n",
      "        0, 0, 7, 5, 3, 9, 1, 9, 1, 0, 1, 1, 6, 5, 1, 4, 8, 5, 7, 9, 0, 8, 9, 5,\n",
      "        7, 8, 1, 9, 7, 5, 9, 0, 8, 9, 1, 8, 1, 1, 4, 5, 6, 0, 1, 1, 0, 3, 4, 5,\n",
      "        2, 6, 9, 3, 1, 7, 5, 9, 0, 9, 0, 6, 0, 1, 1, 7, 6, 1, 9, 4, 1, 1, 4, 8,\n",
      "        6, 8, 6, 1, 6, 1, 0, 7, 5, 7, 5, 9, 7, 4, 5, 8, 3, 5, 4, 3, 5, 9, 5, 1,\n",
      "        0, 7, 4, 6, 5, 2, 9, 5, 3, 8, 5, 5, 7, 7, 1, 4, 1, 6, 8, 3, 5, 8, 5, 5,\n",
      "        1, 3, 5, 6, 0, 5, 4, 9, 9, 6, 7, 6])\n",
      "accuracy 0.5611111111111111\n",
      "loss:  tensor(1.2513, grad_fn=<NllLossBackward0>)\n"
     ]
    },
    {
     "name": "stderr",
     "output_type": "stream",
     "text": [
      " 29%|██▉       | 23/80 [00:41<01:42,  1.79s/it]"
     ]
    },
    {
     "name": "stdout",
     "output_type": "stream",
     "text": [
      "llllll tensor([9, 6, 3, 2, 1, 1, 3, 6, 8, 0, 5, 0, 3, 7, 5, 7, 3, 0, 7, 2, 9, 4, 6, 4,\n",
      "        2, 0, 6, 5, 1, 2, 5, 5, 6, 6, 8, 1, 9, 7, 3, 5, 4, 5, 8, 1, 3, 9, 1, 1,\n",
      "        7, 8, 3, 5, 0, 5, 8, 4, 5, 1, 1, 6, 4, 7, 5, 4, 7, 1, 0, 5, 1, 4, 9, 7,\n",
      "        7, 2, 9, 1, 6, 9, 6, 9, 7, 8, 1, 3, 3, 0, 9, 0, 5, 4, 6, 3, 1, 3, 6, 0,\n",
      "        3, 3, 7, 1, 5, 7, 6, 1, 4, 3, 2, 2, 7, 4, 9, 8, 3, 9, 8, 6, 3, 1, 7, 8,\n",
      "        6, 4, 0, 1, 4, 1, 6, 3, 7, 3, 9, 0, 1, 8, 1, 1, 3, 0, 1, 4, 1, 1, 3, 7,\n",
      "        4, 9, 6, 6, 2, 6, 8, 1, 9, 7, 1, 1, 4, 5, 0, 4, 5, 6, 0, 6, 0, 0, 5, 6,\n",
      "        8, 4, 7, 6, 0, 1, 3, 7, 6, 7, 5, 1])\n",
      "accuracy 0.5888888888888889\n",
      "loss:  tensor(1.3836, grad_fn=<NllLossBackward0>)\n"
     ]
    },
    {
     "name": "stderr",
     "output_type": "stream",
     "text": [
      " 30%|███       | 24/80 [00:43<01:40,  1.80s/it]"
     ]
    },
    {
     "name": "stdout",
     "output_type": "stream",
     "text": [
      "llllll tensor([9, 9, 1, 3, 9, 1, 4, 2, 6, 1, 5, 1, 9, 1, 5, 7, 7, 9, 8, 4, 6, 8, 5, 2,\n",
      "        5, 7, 0, 0, 8, 1, 6, 6, 1, 6, 0, 5, 1, 6, 3, 0, 1, 7, 9, 1, 6, 6, 2, 1,\n",
      "        6, 1, 8, 3, 6, 3, 0, 0, 0, 5, 6, 1, 4, 3, 7, 2, 5, 1, 5, 4, 5, 4, 1, 4,\n",
      "        4, 1, 9, 7, 6, 0, 8, 8, 4, 8, 7, 1, 5, 7, 7, 6, 1, 6, 8, 8, 3, 0, 8, 5,\n",
      "        7, 7, 3, 6, 3, 7, 1, 1, 3, 2, 7, 3, 2, 4, 3, 6, 4, 6, 9, 5, 0, 8, 7, 1,\n",
      "        5, 0, 1, 4, 5, 5, 8, 9, 0, 5, 6, 0, 1, 5, 9, 7, 1, 5, 4, 4, 9, 7, 2, 9,\n",
      "        6, 9, 9, 6, 1, 3, 6, 1, 4, 5, 0, 4, 8, 7, 4, 4, 1, 2, 3, 5, 0, 3, 1, 7,\n",
      "        3, 0, 7, 8, 1, 7, 8, 6, 9, 3, 3, 8])\n",
      "accuracy 0.6111111111111112\n",
      "loss:  tensor(1.2824, grad_fn=<NllLossBackward0>)\n"
     ]
    },
    {
     "name": "stderr",
     "output_type": "stream",
     "text": [
      " 31%|███▏      | 25/80 [00:45<01:38,  1.79s/it]"
     ]
    },
    {
     "name": "stdout",
     "output_type": "stream",
     "text": [
      "llllll tensor([6, 5, 5, 1, 8, 0, 6, 3, 6, 2, 1, 0, 3, 5, 9, 6, 9, 0, 9, 5, 3, 4, 9, 9,\n",
      "        0, 1, 4, 9, 0, 1, 8, 4, 2, 5, 1, 0, 2, 4, 2, 6, 9, 4, 7, 9, 6, 4, 8, 1,\n",
      "        1, 8, 3, 0, 9, 5, 5, 2, 3, 7, 1, 9, 1, 0, 4, 3, 4, 0, 1, 3, 4, 1, 1, 2,\n",
      "        3, 5, 5, 0, 3, 7, 7, 3, 8, 0, 0, 6, 1, 4, 5, 4, 7, 1, 6, 7, 1, 4, 6, 5,\n",
      "        8, 9, 1, 2, 4, 6, 9, 1, 9, 4, 7, 9, 5, 1, 6, 9, 7, 1, 0, 0, 9, 1, 7, 6,\n",
      "        9, 6, 1, 6, 5, 7, 6, 0, 6, 9, 3, 1, 1, 4, 5, 3, 5, 2, 6, 8, 3, 4, 0, 4,\n",
      "        8, 9, 6, 7, 3, 0, 3, 4, 9, 9, 7, 7, 7, 7, 1, 9, 9, 9, 6, 7, 9, 4, 5, 3,\n",
      "        9, 7, 0, 6, 8, 5, 4, 2, 8, 1, 4, 1])\n",
      "accuracy 0.6166666666666667\n",
      "loss:  tensor(1.3959, grad_fn=<NllLossBackward0>)\n"
     ]
    },
    {
     "name": "stderr",
     "output_type": "stream",
     "text": [
      " 32%|███▎      | 26/80 [00:47<01:36,  1.79s/it]"
     ]
    },
    {
     "name": "stdout",
     "output_type": "stream",
     "text": [
      "llllll tensor([9, 0, 8, 1, 2, 8, 8, 3, 2, 0, 6, 5, 3, 0, 6, 3, 8, 9, 2, 4, 4, 4, 5, 6,\n",
      "        4, 4, 5, 8, 4, 2, 5, 8, 7, 5, 5, 7, 7, 7, 9, 8, 8, 5, 6, 6, 4, 2, 9, 5,\n",
      "        2, 7, 1, 0, 8, 2, 5, 2, 8, 9, 7, 6, 2, 1, 9, 8, 3, 7, 1, 4, 2, 8, 1, 2,\n",
      "        4, 0, 1, 6, 7, 7, 8, 0, 8, 2, 2, 5, 7, 0, 2, 2, 9, 1, 1, 5, 6, 5, 6, 5,\n",
      "        4, 7, 5, 0, 9, 4, 5, 5, 1, 8, 0, 4, 6, 6, 2, 0, 9, 6, 4, 1, 0, 4, 4, 0,\n",
      "        9, 6, 9, 2, 4, 5, 1, 0, 9, 8, 1, 4, 4, 7, 5, 2, 0, 6, 1, 1, 8, 8, 6, 7,\n",
      "        4, 8, 7, 8, 5, 0, 4, 5, 1, 0, 2, 2, 0, 7, 8, 2, 4, 6, 9, 8, 9, 0, 2, 7,\n",
      "        9, 1, 7, 7, 2, 8, 1, 2, 5, 0, 9, 1])\n",
      "accuracy 0.5722222222222222\n",
      "loss:  tensor(1.2868, grad_fn=<NllLossBackward0>)\n"
     ]
    },
    {
     "name": "stderr",
     "output_type": "stream",
     "text": [
      " 34%|███▍      | 27/80 [00:48<01:34,  1.79s/it]"
     ]
    },
    {
     "name": "stdout",
     "output_type": "stream",
     "text": [
      "llllll tensor([6, 2, 9, 4, 4, 9, 4, 9, 9, 0, 1, 4, 9, 7, 6, 1, 0, 9, 0, 4, 6, 9, 6, 3,\n",
      "        2, 7, 2, 4, 4, 6, 8, 2, 7, 0, 1, 3, 0, 1, 8, 4, 4, 4, 6, 9, 3, 8, 2, 1,\n",
      "        8, 9, 9, 1, 6, 6, 0, 0, 9, 5, 7, 5, 7, 1, 2, 6, 7, 2, 3, 1, 5, 3, 5, 6,\n",
      "        3, 9, 2, 5, 6, 2, 7, 1, 4, 5, 4, 8, 2, 9, 1, 6, 6, 9, 0, 4, 3, 5, 6, 3,\n",
      "        5, 4, 0, 6, 1, 1, 9, 1, 7, 6, 1, 1, 2, 1, 4, 8, 0, 4, 1, 7, 4, 0, 2, 4,\n",
      "        6, 3, 1, 8, 6, 3, 8, 1, 1, 6, 4, 4, 1, 0, 0, 6, 5, 3, 7, 7, 6, 6, 8, 6,\n",
      "        3, 8, 9, 7, 9, 1, 7, 3, 7, 2, 7, 4, 9, 0, 7, 5, 8, 1, 1, 1, 9, 0, 4, 0,\n",
      "        1, 1, 3, 5, 9, 4, 7, 6, 9, 5, 8, 8])\n",
      "accuracy 0.5944444444444444\n",
      "loss:  tensor(1.2813, grad_fn=<NllLossBackward0>)\n"
     ]
    },
    {
     "name": "stderr",
     "output_type": "stream",
     "text": [
      " 35%|███▌      | 28/80 [00:50<01:33,  1.79s/it]"
     ]
    },
    {
     "name": "stdout",
     "output_type": "stream",
     "text": [
      "llllll tensor([1, 3, 7, 7, 4, 7, 8, 5, 0, 2, 7, 3, 9, 3, 5, 8, 5, 8, 3, 8, 8, 9, 4, 5,\n",
      "        0, 9, 7, 0, 7, 0, 0, 7, 5, 9, 5, 7, 6, 5, 3, 1, 3, 1, 6, 7, 1, 1, 1, 5,\n",
      "        5, 9, 7, 6, 5, 1, 0, 6, 2, 3, 4, 0, 3, 1, 3, 1, 7, 4, 9, 4, 8, 5, 5, 8,\n",
      "        8, 3, 3, 5, 6, 1, 1, 6, 4, 7, 1, 2, 9, 3, 0, 4, 1, 7, 6, 6, 2, 3, 1, 5,\n",
      "        7, 8, 4, 5, 3, 6, 3, 0, 9, 0, 6, 5, 2, 3, 9, 6, 5, 5, 9, 4, 4, 0, 0, 2,\n",
      "        4, 3, 9, 8, 3, 0, 6, 1, 3, 4, 6, 1, 5, 0, 3, 3, 3, 9, 3, 9, 0, 1, 1, 4,\n",
      "        0, 7, 1, 7, 5, 4, 8, 4, 5, 8, 1, 6, 7, 0, 4, 8, 1, 4, 7, 1, 2, 9, 2, 5,\n",
      "        3, 9, 7, 9, 9, 2, 8, 4, 5, 1, 6, 9])\n",
      "accuracy 0.6333333333333333\n",
      "loss:  tensor(0.9659, grad_fn=<NllLossBackward0>)\n"
     ]
    },
    {
     "name": "stderr",
     "output_type": "stream",
     "text": [
      " 36%|███▋      | 29/80 [00:52<01:31,  1.79s/it]"
     ]
    },
    {
     "name": "stdout",
     "output_type": "stream",
     "text": [
      "llllll tensor([5, 2, 8, 9, 9, 9, 3, 3, 6, 8, 7, 6, 6, 9, 2, 7, 9, 1, 3, 9, 6, 5, 8, 4,\n",
      "        8, 7, 1, 8, 6, 4, 6, 3, 8, 4, 3, 9, 4, 1, 7, 0, 2, 7, 4, 3, 8, 5, 7, 9,\n",
      "        3, 6, 5, 8, 0, 8, 1, 4, 5, 3, 1, 6, 0, 3, 9, 0, 8, 0, 0, 1, 1, 6, 5, 6,\n",
      "        6, 6, 9, 0, 3, 8, 7, 1, 9, 7, 6, 9, 8, 7, 6, 6, 9, 3, 7, 1, 1, 1, 8, 5,\n",
      "        6, 0, 0, 8, 6, 3, 5, 5, 6, 6, 1, 6, 8, 0, 4, 7, 4, 6, 2, 3, 7, 3, 5, 5,\n",
      "        1, 8, 7, 7, 7, 0, 4, 6, 8, 4, 0, 5, 2, 7, 8, 4, 1, 0, 5, 0, 5, 0, 8, 7,\n",
      "        4, 0, 5, 0, 1, 1, 4, 4, 0, 3, 2, 3, 1, 0, 9, 6, 4, 5, 5, 5, 4, 2, 9, 9,\n",
      "        3, 2, 1, 3, 2, 5, 6, 8, 1, 9, 1, 3])\n",
      "accuracy 0.6111111111111112\n",
      "loss:  tensor(1.1376, grad_fn=<NllLossBackward0>)\n"
     ]
    },
    {
     "name": "stderr",
     "output_type": "stream",
     "text": [
      " 38%|███▊      | 30/80 [00:54<01:29,  1.79s/it]"
     ]
    },
    {
     "name": "stdout",
     "output_type": "stream",
     "text": [
      "llllll tensor([7, 8, 9, 2, 1, 2, 7, 4, 7, 6, 4, 0, 5, 4, 6, 9, 6, 2, 1, 7, 9, 0, 2, 3,\n",
      "        7, 2, 6, 3, 1, 6, 7, 6, 6, 4, 7, 0, 4, 1, 6, 7, 8, 8, 5, 2, 0, 5, 7, 8,\n",
      "        6, 0, 5, 9, 5, 2, 4, 5, 7, 6, 0, 0, 8, 9, 7, 4, 3, 2, 4, 6, 8, 4, 8, 9,\n",
      "        9, 2, 9, 3, 3, 1, 4, 5, 9, 4, 6, 7, 0, 3, 1, 9, 3, 2, 1, 1, 2, 3, 1, 8,\n",
      "        2, 2, 6, 1, 5, 8, 9, 9, 3, 9, 4, 0, 7, 8, 4, 9, 2, 2, 6, 4, 0, 2, 1, 5,\n",
      "        3, 8, 5, 7, 6, 4, 1, 6, 1, 0, 8, 8, 0, 7, 8, 6, 4, 1, 6, 7, 4, 3, 0, 4,\n",
      "        2, 5, 0, 3, 8, 5, 8, 6, 5, 4, 7, 2, 1, 8, 0, 1, 4, 7, 4, 7, 2, 0, 5, 1,\n",
      "        9, 9, 3, 7, 1, 8, 9, 7, 0, 8, 0, 6])\n",
      "accuracy 0.6111111111111112\n",
      "loss:  tensor(1.1327, grad_fn=<NllLossBackward0>)\n"
     ]
    },
    {
     "name": "stderr",
     "output_type": "stream",
     "text": [
      " 39%|███▉      | 31/80 [00:55<01:27,  1.78s/it]"
     ]
    },
    {
     "name": "stdout",
     "output_type": "stream",
     "text": [
      "llllll tensor([0, 8, 9, 7, 5, 6, 4, 8, 8, 0, 8, 2, 4, 0, 2, 3, 7, 0, 9, 4, 6, 6, 9, 2,\n",
      "        5, 9, 3, 3, 1, 7, 6, 0, 4, 9, 9, 6, 2, 6, 7, 2, 1, 5, 2, 5, 7, 1, 6, 7,\n",
      "        2, 0, 6, 0, 9, 1, 1, 8, 6, 5, 9, 2, 7, 0, 9, 1, 5, 1, 1, 6, 5, 7, 0, 1,\n",
      "        1, 5, 1, 8, 5, 9, 6, 0, 8, 8, 7, 7, 7, 0, 2, 5, 3, 8, 1, 3, 8, 8, 3, 5,\n",
      "        8, 0, 1, 9, 1, 1, 1, 0, 1, 1, 6, 5, 6, 5, 4, 5, 7, 2, 5, 1, 2, 3, 5, 1,\n",
      "        8, 5, 1, 2, 2, 8, 1, 9, 1, 5, 0, 4, 3, 0, 7, 5, 0, 7, 6, 7, 8, 1, 4, 3,\n",
      "        9, 4, 2, 4, 4, 2, 6, 7, 4, 2, 7, 5, 9, 4, 6, 5, 0, 8, 9, 7, 4, 3, 0, 5,\n",
      "        5, 1, 3, 6, 0, 0, 6, 6, 5, 1, 4, 1])\n",
      "accuracy 0.5944444444444444\n",
      "loss:  tensor(1.0457, grad_fn=<NllLossBackward0>)\n"
     ]
    },
    {
     "name": "stderr",
     "output_type": "stream",
     "text": [
      " 40%|████      | 32/80 [00:57<01:25,  1.78s/it]"
     ]
    },
    {
     "name": "stdout",
     "output_type": "stream",
     "text": [
      "llllll tensor([5, 7, 9, 5, 6, 0, 4, 8, 3, 6, 9, 4, 7, 8, 4, 1, 2, 4, 3, 1, 3, 9, 3, 3,\n",
      "        8, 7, 1, 8, 7, 3, 0, 0, 4, 6, 8, 7, 8, 8, 2, 1, 7, 3, 4, 7, 2, 8, 5, 1,\n",
      "        0, 1, 2, 8, 5, 8, 4, 5, 4, 4, 7, 3, 2, 0, 8, 1, 1, 8, 4, 1, 5, 6, 1, 6,\n",
      "        8, 5, 4, 1, 6, 2, 4, 6, 6, 0, 0, 6, 5, 7, 7, 0, 6, 7, 4, 6, 5, 1, 2, 5,\n",
      "        8, 4, 6, 9, 4, 6, 4, 7, 9, 3, 2, 1, 6, 5, 8, 4, 5, 3, 6, 0, 2, 2, 9, 2,\n",
      "        2, 8, 1, 2, 8, 6, 1, 4, 2, 9, 2, 2, 7, 9, 0, 0, 1, 0, 8, 9, 0, 4, 4, 5,\n",
      "        9, 0, 8, 8, 0, 4, 6, 1, 8, 1, 7, 8, 2, 0, 4, 3, 1, 0, 7, 2, 4, 0, 8, 6,\n",
      "        0, 2, 6, 0, 8, 9, 1, 4, 4, 6, 4, 5])\n",
      "accuracy 0.6222222222222222\n",
      "loss:  tensor(1.1070, grad_fn=<NllLossBackward0>)\n"
     ]
    },
    {
     "name": "stderr",
     "output_type": "stream",
     "text": [
      " 41%|████▏     | 33/80 [00:59<01:24,  1.80s/it]"
     ]
    },
    {
     "name": "stdout",
     "output_type": "stream",
     "text": [
      "llllll tensor([6, 1, 4, 8, 8, 1, 7, 0, 9, 1, 3, 9, 5, 6, 3, 5, 1, 2, 1, 8, 3, 6, 1, 6,\n",
      "        6, 0, 4, 9, 1, 4, 3, 0, 9, 6, 4, 1, 0, 2, 6, 1, 8, 0, 1, 1, 6, 7, 8, 6,\n",
      "        6, 5, 4, 5, 1, 7, 4, 0, 5, 3, 3, 7, 9, 3, 7, 8, 3, 7, 8, 3, 9, 4, 7, 6,\n",
      "        6, 1, 6, 5, 1, 8, 0, 1, 3, 3, 1, 9, 6, 5, 9, 7, 8, 7, 2, 5, 7, 3, 4, 6,\n",
      "        6, 3, 5, 0, 9, 3, 9, 7, 3, 1, 6, 3, 1, 3, 8, 3, 0, 3, 1, 0, 1, 7, 0, 5,\n",
      "        3, 8, 6, 1, 9, 0, 1, 8, 6, 1, 7, 0, 4, 9, 0, 4, 3, 9, 9, 1, 9, 4, 6, 1,\n",
      "        5, 3, 5, 1, 4, 7, 5, 4, 6, 5, 0, 1, 9, 1, 5, 2, 4, 6, 5, 8, 3, 6, 3, 9,\n",
      "        5, 1, 5, 7, 8, 6, 5, 6, 4, 0, 7, 9])\n",
      "accuracy 0.6388888888888888\n",
      "loss:  tensor(0.8501, grad_fn=<NllLossBackward0>)\n"
     ]
    },
    {
     "name": "stderr",
     "output_type": "stream",
     "text": [
      " 42%|████▎     | 34/80 [01:01<01:22,  1.80s/it]"
     ]
    },
    {
     "name": "stdout",
     "output_type": "stream",
     "text": [
      "llllll tensor([7, 5, 6, 6, 3, 3, 8, 2, 1, 7, 9, 6, 3, 3, 9, 4, 2, 8, 4, 6, 1, 8, 0, 8,\n",
      "        4, 0, 5, 1, 0, 0, 8, 8, 0, 7, 4, 4, 1, 3, 4, 9, 8, 7, 8, 6, 5, 9, 5, 3,\n",
      "        1, 8, 1, 5, 4, 6, 9, 5, 6, 1, 7, 4, 6, 1, 4, 1, 1, 3, 1, 3, 8, 8, 1, 0,\n",
      "        9, 4, 1, 1, 6, 5, 7, 5, 8, 4, 1, 5, 3, 6, 5, 4, 0, 2, 8, 3, 2, 8, 8, 9,\n",
      "        1, 6, 8, 5, 2, 6, 0, 5, 1, 3, 2, 3, 8, 9, 6, 4, 6, 0, 1, 0, 7, 4, 6, 1,\n",
      "        6, 8, 4, 9, 0, 5, 5, 6, 9, 1, 3, 2, 1, 7, 4, 0, 1, 1, 7, 5, 2, 5, 0, 0,\n",
      "        9, 0, 9, 5, 8, 8, 7, 5, 2, 3, 7, 9, 4, 8, 7, 5, 4, 5, 5, 0, 7, 6, 3, 8,\n",
      "        2, 6, 8, 0, 2, 3, 3, 0, 9, 5, 0, 7])\n",
      "accuracy 0.6333333333333333\n",
      "loss:  tensor(1.0887, grad_fn=<NllLossBackward0>)\n"
     ]
    },
    {
     "name": "stderr",
     "output_type": "stream",
     "text": [
      " 44%|████▍     | 35/80 [01:03<01:21,  1.80s/it]"
     ]
    },
    {
     "name": "stdout",
     "output_type": "stream",
     "text": [
      "llllll tensor([6, 5, 9, 1, 8, 8, 4, 1, 1, 2, 8, 0, 3, 7, 8, 6, 6, 3, 5, 5, 8, 9, 8, 9,\n",
      "        0, 8, 0, 5, 2, 5, 7, 0, 0, 6, 2, 4, 4, 8, 8, 8, 8, 5, 3, 9, 1, 9, 1, 7,\n",
      "        3, 0, 8, 4, 5, 5, 4, 4, 6, 2, 9, 5, 5, 0, 2, 6, 3, 3, 9, 0, 4, 4, 2, 0,\n",
      "        3, 5, 2, 5, 0, 5, 5, 6, 9, 7, 4, 8, 9, 0, 7, 1, 7, 7, 1, 1, 0, 6, 1, 8,\n",
      "        5, 9, 2, 4, 6, 5, 7, 0, 0, 8, 6, 4, 8, 4, 1, 1, 3, 8, 3, 9, 3, 4, 4, 7,\n",
      "        6, 9, 9, 5, 1, 9, 1, 1, 3, 1, 5, 7, 5, 9, 8, 0, 8, 6, 1, 3, 8, 4, 6, 5,\n",
      "        7, 1, 5, 3, 6, 6, 5, 0, 3, 8, 6, 8, 1, 6, 4, 0, 0, 1, 6, 0, 3, 7, 4, 6,\n",
      "        1, 1, 2, 4, 1, 8, 5, 9, 0, 0, 1, 3])\n",
      "accuracy 0.6277777777777778\n",
      "loss:  tensor(1.0556, grad_fn=<NllLossBackward0>)\n"
     ]
    },
    {
     "name": "stderr",
     "output_type": "stream",
     "text": [
      " 45%|████▌     | 36/80 [01:05<01:19,  1.81s/it]"
     ]
    },
    {
     "name": "stdout",
     "output_type": "stream",
     "text": [
      "llllll tensor([3, 3, 7, 5, 9, 9, 0, 9, 9, 9, 1, 1, 4, 8, 6, 5, 6, 8, 4, 7, 8, 8, 0, 6,\n",
      "        6, 1, 3, 2, 1, 7, 7, 6, 2, 5, 9, 4, 5, 4, 6, 3, 1, 5, 9, 4, 1, 3, 1, 2,\n",
      "        0, 5, 7, 5, 2, 2, 1, 5, 1, 6, 7, 0, 7, 1, 0, 9, 9, 9, 5, 6, 6, 6, 3, 1,\n",
      "        6, 8, 6, 3, 1, 5, 7, 3, 8, 4, 3, 6, 8, 0, 9, 0, 0, 5, 3, 4, 4, 9, 4, 5,\n",
      "        8, 1, 5, 3, 1, 7, 4, 4, 8, 4, 6, 1, 5, 1, 9, 6, 9, 6, 9, 5, 4, 4, 9, 2,\n",
      "        3, 0, 3, 6, 8, 7, 1, 6, 0, 9, 3, 8, 6, 9, 0, 6, 1, 8, 7, 0, 9, 9, 7, 1,\n",
      "        7, 0, 1, 1, 6, 1, 7, 1, 0, 5, 0, 9, 5, 1, 4, 4, 9, 5, 3, 5, 3, 1, 1, 5,\n",
      "        6, 1, 0, 2, 8, 3, 5, 7, 9, 0, 0, 0])\n",
      "accuracy 0.65\n",
      "loss:  tensor(1.0096, grad_fn=<NllLossBackward0>)\n"
     ]
    },
    {
     "name": "stderr",
     "output_type": "stream",
     "text": [
      " 46%|████▋     | 37/80 [01:06<01:17,  1.81s/it]"
     ]
    },
    {
     "name": "stdout",
     "output_type": "stream",
     "text": [
      "llllll tensor([1, 2, 5, 6, 4, 5, 7, 3, 3, 1, 1, 5, 5, 8, 8, 6, 3, 8, 5, 8, 1, 3, 3, 7,\n",
      "        9, 8, 0, 0, 4, 2, 0, 8, 1, 6, 8, 5, 0, 3, 1, 4, 5, 4, 8, 6, 4, 7, 0, 8,\n",
      "        3, 9, 1, 2, 5, 8, 4, 7, 0, 8, 9, 3, 0, 0, 5, 0, 5, 4, 9, 3, 0, 4, 7, 2,\n",
      "        1, 0, 0, 4, 7, 1, 7, 1, 0, 1, 5, 0, 6, 0, 9, 9, 8, 1, 2, 1, 3, 1, 1, 3,\n",
      "        4, 5, 3, 8, 4, 8, 8, 9, 4, 5, 6, 2, 6, 6, 6, 7, 1, 1, 9, 6, 4, 7, 7, 6,\n",
      "        1, 9, 7, 5, 7, 9, 2, 6, 0, 6, 9, 9, 1, 2, 4, 3, 4, 4, 0, 5, 8, 0, 3, 2,\n",
      "        5, 1, 5, 2, 6, 8, 6, 5, 0, 9, 5, 6, 6, 1, 3, 8, 1, 3, 1, 7, 1, 4, 5, 2,\n",
      "        9, 3, 1, 9, 9, 0, 4, 8, 3, 6, 6, 0])\n",
      "accuracy 0.65\n",
      "loss:  tensor(0.7208, grad_fn=<NllLossBackward0>)\n"
     ]
    },
    {
     "name": "stderr",
     "output_type": "stream",
     "text": [
      " 48%|████▊     | 38/80 [01:08<01:15,  1.81s/it]"
     ]
    },
    {
     "name": "stdout",
     "output_type": "stream",
     "text": [
      "llllll tensor([5, 7, 8, 0, 7, 7, 0, 1, 1, 1, 1, 3, 6, 4, 9, 4, 5, 4, 5, 0, 3, 1, 3, 5,\n",
      "        3, 1, 9, 2, 9, 8, 8, 5, 8, 5, 5, 4, 3, 4, 4, 6, 2, 0, 5, 9, 0, 8, 4, 9,\n",
      "        6, 8, 1, 9, 0, 8, 7, 2, 4, 3, 3, 5, 6, 6, 0, 8, 8, 3, 5, 6, 9, 4, 0, 6,\n",
      "        6, 1, 5, 8, 8, 0, 8, 7, 6, 1, 1, 5, 3, 0, 1, 6, 8, 9, 3, 6, 7, 3, 7, 7,\n",
      "        4, 5, 6, 8, 8, 2, 7, 7, 7, 8, 1, 9, 7, 9, 4, 4, 0, 5, 0, 1, 9, 9, 7, 0,\n",
      "        2, 0, 8, 4, 5, 3, 3, 7, 7, 0, 0, 3, 6, 3, 0, 5, 1, 4, 9, 4, 6, 6, 1, 7,\n",
      "        1, 8, 1, 9, 2, 8, 4, 1, 3, 0, 6, 0, 0, 8, 2, 6, 6, 1, 5, 9, 4, 2, 1, 8,\n",
      "        5, 5, 1, 3, 4, 1, 6, 5, 9, 7, 9, 3])\n",
      "accuracy 0.65\n",
      "loss:  tensor(1.0970, grad_fn=<NllLossBackward0>)\n"
     ]
    },
    {
     "name": "stderr",
     "output_type": "stream",
     "text": [
      " 49%|████▉     | 39/80 [01:10<01:14,  1.81s/it]"
     ]
    },
    {
     "name": "stdout",
     "output_type": "stream",
     "text": [
      "llllll tensor([7, 8, 1, 4, 9, 4, 5, 0, 4, 9, 1, 9, 1, 0, 1, 7, 0, 8, 9, 3, 7, 3, 5, 3,\n",
      "        4, 8, 9, 6, 5, 7, 7, 7, 3, 1, 7, 0, 8, 4, 1, 4, 0, 5, 0, 0, 5, 3, 1, 5,\n",
      "        3, 9, 9, 4, 1, 4, 1, 9, 6, 3, 8, 0, 2, 3, 8, 4, 1, 1, 6, 6, 2, 3, 5, 4,\n",
      "        0, 9, 6, 5, 0, 7, 1, 9, 0, 1, 6, 0, 8, 2, 0, 3, 2, 6, 7, 6, 2, 3, 0, 7,\n",
      "        0, 1, 3, 8, 9, 6, 4, 9, 5, 9, 3, 5, 2, 1, 5, 9, 6, 7, 4, 1, 6, 6, 0, 7,\n",
      "        5, 8, 4, 1, 9, 1, 4, 2, 1, 3, 6, 1, 3, 9, 1, 8, 1, 0, 5, 6, 8, 6, 9, 8,\n",
      "        5, 1, 4, 1, 6, 1, 3, 4, 9, 4, 1, 0, 0, 9, 0, 4, 5, 1, 2, 0, 6, 9, 6, 8,\n",
      "        1, 5, 2, 3, 6, 5, 9, 5, 8, 5, 6, 3])\n",
      "accuracy 0.6666666666666666\n",
      "loss:  tensor(0.8862, grad_fn=<NllLossBackward0>)\n"
     ]
    },
    {
     "name": "stderr",
     "output_type": "stream",
     "text": [
      " 50%|█████     | 40/80 [01:12<01:12,  1.81s/it]"
     ]
    },
    {
     "name": "stdout",
     "output_type": "stream",
     "text": [
      "llllll tensor([1, 6, 3, 7, 7, 8, 1, 3, 5, 5, 4, 7, 6, 5, 4, 9, 5, 6, 8, 8, 8, 2, 6, 1,\n",
      "        5, 1, 7, 4, 9, 9, 4, 8, 7, 5, 0, 9, 0, 3, 3, 5, 0, 1, 2, 3, 3, 1, 9, 9,\n",
      "        1, 1, 3, 6, 8, 0, 9, 7, 9, 4, 2, 8, 4, 1, 5, 1, 7, 0, 1, 6, 8, 3, 6, 0,\n",
      "        3, 4, 1, 4, 5, 8, 9, 9, 2, 5, 9, 7, 6, 7, 7, 5, 3, 3, 5, 1, 8, 9, 1, 9,\n",
      "        6, 5, 1, 0, 9, 2, 7, 0, 9, 0, 4, 1, 4, 7, 1, 6, 3, 8, 0, 5, 0, 4, 2, 9,\n",
      "        0, 6, 5, 9, 2, 0, 1, 9, 4, 3, 0, 7, 1, 7, 1, 5, 1, 0, 3, 3, 4, 8, 3, 0,\n",
      "        9, 5, 7, 0, 7, 8, 1, 9, 0, 5, 6, 1, 6, 7, 4, 4, 9, 3, 2, 0, 0, 1, 5, 5,\n",
      "        3, 4, 6, 5, 6, 0, 0, 1, 5, 8, 6, 5])\n",
      "accuracy 0.65\n",
      "loss:  tensor(0.8115, grad_fn=<NllLossBackward0>)\n"
     ]
    },
    {
     "name": "stderr",
     "output_type": "stream",
     "text": [
      " 51%|█████▏    | 41/80 [01:14<01:10,  1.81s/it]"
     ]
    },
    {
     "name": "stdout",
     "output_type": "stream",
     "text": [
      "llllll tensor([1, 6, 5, 4, 5, 4, 3, 8, 1, 3, 8, 4, 8, 7, 0, 8, 0, 7, 8, 0, 0, 0, 0, 8,\n",
      "        5, 5, 6, 1, 6, 4, 1, 9, 1, 9, 1, 1, 9, 4, 7, 0, 3, 0, 5, 8, 1, 4, 1, 8,\n",
      "        5, 6, 6, 1, 4, 6, 2, 3, 3, 3, 7, 7, 5, 1, 0, 4, 9, 8, 1, 0, 2, 5, 5, 4,\n",
      "        0, 2, 5, 1, 7, 7, 3, 9, 9, 7, 6, 7, 4, 6, 3, 3, 6, 5, 1, 9, 3, 9, 1, 1,\n",
      "        6, 8, 1, 5, 2, 1, 1, 6, 6, 8, 1, 1, 9, 5, 4, 4, 0, 5, 7, 7, 0, 0, 1, 1,\n",
      "        9, 8, 5, 8, 6, 0, 9, 5, 1, 7, 7, 4, 0, 9, 7, 7, 3, 9, 6, 3, 0, 9, 2, 4,\n",
      "        9, 5, 6, 5, 2, 5, 5, 9, 5, 2, 3, 2, 8, 0, 9, 9, 4, 0, 4, 8, 9, 6, 8, 9,\n",
      "        5, 5, 1, 0, 3, 7, 1, 7, 5, 3, 9, 4])\n",
      "accuracy 0.6555555555555556\n",
      "loss:  tensor(1.0145, grad_fn=<NllLossBackward0>)\n"
     ]
    },
    {
     "name": "stderr",
     "output_type": "stream",
     "text": [
      " 52%|█████▎    | 42/80 [01:15<01:08,  1.81s/it]"
     ]
    },
    {
     "name": "stdout",
     "output_type": "stream",
     "text": [
      "llllll tensor([4, 1, 0, 1, 3, 3, 9, 2, 7, 0, 0, 7, 8, 3, 1, 9, 7, 8, 4, 1, 9, 8, 4, 8,\n",
      "        7, 9, 7, 5, 6, 2, 8, 3, 0, 1, 5, 6, 2, 7, 8, 1, 2, 0, 0, 7, 9, 8, 6, 9,\n",
      "        5, 0, 2, 3, 6, 1, 6, 4, 5, 3, 5, 4, 5, 8, 8, 6, 5, 3, 3, 1, 3, 8, 3, 7,\n",
      "        3, 3, 3, 7, 5, 6, 8, 4, 4, 6, 7, 5, 6, 0, 6, 5, 1, 4, 9, 9, 0, 8, 6, 1,\n",
      "        4, 6, 0, 2, 5, 9, 9, 8, 8, 1, 7, 9, 5, 9, 1, 7, 0, 9, 3, 0, 9, 0, 4, 4,\n",
      "        1, 4, 6, 3, 7, 7, 4, 4, 0, 9, 9, 4, 4, 3, 5, 3, 8, 2, 6, 7, 1, 6, 9, 8,\n",
      "        5, 0, 0, 1, 8, 3, 7, 2, 6, 5, 5, 4, 3, 1, 3, 7, 1, 0, 5, 4, 0, 2, 4, 6,\n",
      "        8, 1, 1, 5, 2, 5, 0, 0, 1, 4, 4, 8])\n",
      "accuracy 0.6388888888888888\n",
      "loss:  tensor(0.8733, grad_fn=<NllLossBackward0>)\n"
     ]
    },
    {
     "name": "stderr",
     "output_type": "stream",
     "text": [
      " 54%|█████▍    | 43/80 [01:17<01:06,  1.81s/it]"
     ]
    },
    {
     "name": "stdout",
     "output_type": "stream",
     "text": [
      "llllll tensor([4, 3, 5, 8, 4, 4, 6, 6, 9, 8, 3, 4, 0, 1, 9, 7, 2, 6, 0, 0, 5, 4, 9, 8,\n",
      "        6, 4, 2, 7, 1, 8, 6, 0, 9, 2, 6, 9, 1, 5, 8, 6, 0, 0, 3, 3, 4, 8, 4, 5,\n",
      "        5, 1, 1, 1, 5, 4, 2, 8, 6, 0, 8, 7, 1, 8, 5, 5, 1, 3, 6, 6, 6, 8, 2, 8,\n",
      "        6, 3, 6, 2, 8, 8, 7, 0, 2, 7, 0, 1, 8, 6, 9, 1, 6, 8, 9, 8, 9, 0, 1, 1,\n",
      "        5, 1, 2, 0, 0, 7, 5, 7, 7, 9, 3, 7, 0, 0, 4, 5, 3, 7, 9, 0, 9, 1, 7, 4,\n",
      "        0, 5, 1, 1, 9, 7, 0, 8, 6, 3, 2, 9, 6, 9, 3, 4, 6, 1, 0, 5, 8, 8, 4, 4,\n",
      "        9, 1, 1, 5, 1, 4, 5, 7, 4, 7, 1, 8, 2, 6, 6, 9, 1, 7, 3, 9, 5, 1, 4, 8,\n",
      "        5, 3, 1, 3, 4, 3, 8, 7, 7, 8, 1, 5])\n",
      "accuracy 0.6777777777777778\n",
      "loss:  tensor(0.5862, grad_fn=<NllLossBackward0>)\n"
     ]
    },
    {
     "name": "stderr",
     "output_type": "stream",
     "text": [
      " 55%|█████▌    | 44/80 [01:19<01:05,  1.82s/it]"
     ]
    },
    {
     "name": "stdout",
     "output_type": "stream",
     "text": [
      "llllll tensor([1, 8, 7, 8, 6, 0, 2, 3, 5, 6, 4, 3, 4, 1, 8, 2, 4, 8, 2, 8, 0, 4, 2, 9,\n",
      "        1, 0, 9, 3, 8, 0, 6, 9, 8, 8, 5, 1, 9, 6, 1, 9, 1, 7, 9, 1, 5, 3, 9, 6,\n",
      "        0, 4, 7, 3, 0, 9, 3, 5, 4, 4, 2, 3, 7, 1, 0, 9, 1, 4, 0, 1, 0, 0, 2, 6,\n",
      "        3, 5, 1, 9, 9, 0, 5, 5, 4, 0, 4, 8, 6, 3, 5, 3, 6, 7, 3, 0, 6, 5, 1, 6,\n",
      "        6, 4, 0, 9, 3, 4, 0, 9, 1, 6, 1, 5, 7, 3, 3, 0, 3, 1, 1, 2, 0, 4, 3, 7,\n",
      "        9, 2, 4, 5, 3, 5, 5, 7, 5, 8, 1, 3, 1, 3, 5, 5, 4, 8, 7, 5, 8, 7, 6, 8,\n",
      "        7, 1, 5, 1, 9, 0, 6, 4, 0, 7, 0, 9, 5, 3, 3, 8, 3, 8, 1, 0, 0, 6, 8, 0,\n",
      "        5, 5, 6, 9, 7, 4, 8, 8, 1, 5, 6, 2])\n",
      "accuracy 0.6555555555555556\n",
      "loss:  tensor(0.8494, grad_fn=<NllLossBackward0>)\n"
     ]
    },
    {
     "name": "stderr",
     "output_type": "stream",
     "text": [
      " 56%|█████▋    | 45/80 [01:21<01:03,  1.81s/it]"
     ]
    },
    {
     "name": "stdout",
     "output_type": "stream",
     "text": [
      "llllll tensor([9, 6, 1, 1, 4, 9, 5, 5, 8, 2, 5, 3, 7, 6, 4, 9, 9, 9, 0, 7, 3, 3, 4, 8,\n",
      "        0, 7, 7, 1, 3, 7, 3, 9, 1, 3, 3, 8, 1, 5, 4, 5, 5, 7, 1, 1, 0, 0, 8, 6,\n",
      "        1, 4, 0, 8, 9, 4, 1, 6, 4, 0, 1, 2, 1, 6, 9, 9, 7, 0, 7, 5, 3, 5, 9, 9,\n",
      "        0, 1, 3, 3, 4, 3, 6, 2, 4, 6, 6, 0, 9, 9, 0, 2, 2, 4, 0, 8, 1, 7, 1, 5,\n",
      "        8, 9, 3, 1, 0, 6, 7, 1, 9, 5, 0, 1, 4, 1, 8, 1, 9, 7, 3, 9, 0, 5, 6, 0,\n",
      "        9, 6, 0, 9, 4, 5, 9, 4, 5, 3, 0, 8, 9, 6, 7, 8, 5, 3, 3, 1, 7, 1, 4, 8,\n",
      "        6, 5, 9, 1, 4, 5, 3, 8, 9, 5, 1, 3, 6, 6, 6, 7, 0, 1, 6, 4, 1, 7, 5, 0,\n",
      "        3, 6, 3, 4, 6, 4, 1, 0, 3, 3, 5, 8])\n",
      "accuracy 0.6333333333333333\n",
      "loss:  tensor(0.7229, grad_fn=<NllLossBackward0>)\n"
     ]
    },
    {
     "name": "stderr",
     "output_type": "stream",
     "text": [
      " 57%|█████▊    | 46/80 [01:23<01:01,  1.81s/it]"
     ]
    },
    {
     "name": "stdout",
     "output_type": "stream",
     "text": [
      "llllll tensor([8, 9, 7, 3, 9, 2, 1, 9, 9, 0, 9, 4, 3, 6, 5, 7, 5, 1, 6, 3, 6, 9, 9, 5,\n",
      "        8, 1, 7, 2, 0, 4, 1, 6, 1, 9, 5, 5, 9, 0, 0, 9, 3, 6, 0, 5, 4, 3, 2, 1,\n",
      "        6, 7, 7, 9, 3, 8, 0, 4, 0, 1, 3, 6, 7, 5, 1, 3, 5, 9, 7, 8, 6, 5, 5, 2,\n",
      "        7, 5, 6, 9, 3, 2, 0, 9, 4, 6, 4, 4, 8, 8, 0, 8, 6, 7, 8, 5, 4, 4, 3, 4,\n",
      "        7, 7, 1, 7, 4, 0, 1, 3, 1, 1, 1, 1, 5, 5, 4, 1, 2, 6, 6, 9, 1, 6, 9, 9,\n",
      "        4, 4, 0, 1, 0, 1, 0, 4, 9, 4, 6, 7, 1, 0, 8, 0, 2, 3, 6, 2, 4, 9, 2, 8,\n",
      "        6, 1, 9, 0, 5, 4, 1, 8, 1, 4, 0, 4, 1, 3, 5, 2, 4, 2, 0, 6, 2, 0, 4, 5,\n",
      "        7, 8, 9, 0, 8, 7, 7, 0, 2, 9, 5, 3])\n",
      "accuracy 0.6722222222222223\n",
      "loss:  tensor(0.9689, grad_fn=<NllLossBackward0>)\n"
     ]
    },
    {
     "name": "stderr",
     "output_type": "stream",
     "text": [
      " 59%|█████▉    | 47/80 [01:24<00:59,  1.81s/it]"
     ]
    },
    {
     "name": "stdout",
     "output_type": "stream",
     "text": [
      "llllll tensor([1, 0, 5, 3, 1, 1, 8, 3, 8, 2, 2, 4, 5, 4, 4, 0, 5, 4, 2, 0, 6, 5, 9, 2,\n",
      "        3, 3, 1, 3, 0, 2, 4, 0, 0, 0, 9, 8, 1, 7, 5, 9, 9, 6, 5, 1, 4, 5, 1, 1,\n",
      "        6, 7, 4, 2, 5, 4, 9, 9, 4, 2, 3, 8, 9, 9, 5, 7, 5, 4, 0, 4, 6, 2, 9, 9,\n",
      "        8, 9, 1, 0, 5, 1, 1, 6, 5, 0, 0, 1, 6, 6, 3, 0, 4, 5, 1, 6, 4, 6, 3, 4,\n",
      "        9, 0, 5, 8, 9, 8, 1, 5, 5, 2, 8, 7, 3, 1, 3, 0, 3, 9, 8, 7, 6, 0, 0, 3,\n",
      "        1, 8, 4, 3, 6, 2, 7, 7, 3, 0, 8, 6, 3, 0, 8, 6, 1, 1, 6, 8, 0, 4, 7, 4,\n",
      "        1, 7, 8, 9, 0, 0, 7, 1, 6, 1, 8, 0, 9, 5, 6, 1, 1, 9, 5, 6, 7, 0, 6, 9,\n",
      "        9, 3, 4, 3, 8, 3, 7, 5, 2, 9, 7, 1])\n",
      "accuracy 0.6333333333333333\n",
      "loss:  tensor(0.9420, grad_fn=<NllLossBackward0>)\n"
     ]
    },
    {
     "name": "stderr",
     "output_type": "stream",
     "text": [
      " 60%|██████    | 48/80 [01:26<00:58,  1.81s/it]"
     ]
    },
    {
     "name": "stdout",
     "output_type": "stream",
     "text": [
      "llllll tensor([6, 1, 9, 3, 7, 0, 8, 7, 0, 1, 8, 3, 4, 0, 9, 9, 6, 1, 0, 4, 4, 2, 5, 1,\n",
      "        0, 9, 9, 9, 7, 8, 8, 2, 7, 1, 1, 9, 6, 1, 2, 5, 5, 3, 5, 5, 7, 0, 3, 3,\n",
      "        9, 8, 8, 5, 1, 1, 9, 2, 4, 0, 0, 0, 3, 9, 3, 8, 0, 6, 1, 0, 2, 1, 0, 7,\n",
      "        6, 2, 5, 1, 1, 3, 5, 9, 5, 6, 7, 0, 7, 6, 8, 1, 3, 0, 4, 4, 9, 6, 5, 0,\n",
      "        1, 0, 6, 6, 3, 1, 3, 5, 5, 8, 3, 3, 9, 7, 4, 5, 8, 0, 8, 7, 1, 4, 8, 9,\n",
      "        1, 6, 2, 0, 4, 6, 8, 9, 6, 4, 1, 9, 5, 8, 1, 0, 3, 4, 6, 5, 5, 0, 7, 4,\n",
      "        0, 6, 4, 0, 4, 7, 2, 6, 7, 8, 7, 8, 4, 4, 5, 9, 8, 3, 5, 6, 3, 1, 6, 1,\n",
      "        8, 1, 4, 2, 5, 0, 4, 5, 0, 5, 4, 7])\n",
      "accuracy 0.65\n",
      "loss:  tensor(0.7694, grad_fn=<NllLossBackward0>)\n"
     ]
    },
    {
     "name": "stderr",
     "output_type": "stream",
     "text": [
      " 61%|██████▏   | 49/80 [01:28<00:56,  1.81s/it]"
     ]
    },
    {
     "name": "stdout",
     "output_type": "stream",
     "text": [
      "llllll tensor([3, 9, 6, 1, 8, 5, 7, 1, 7, 6, 7, 5, 1, 3, 9, 0, 3, 6, 1, 1, 4, 3, 0, 4,\n",
      "        4, 7, 3, 6, 7, 1, 2, 6, 2, 0, 6, 6, 4, 3, 7, 2, 8, 9, 9, 8, 0, 5, 5, 2,\n",
      "        9, 1, 6, 1, 7, 6, 7, 8, 9, 7, 8, 1, 0, 8, 6, 3, 3, 0, 2, 5, 0, 3, 4, 7,\n",
      "        8, 7, 9, 1, 7, 3, 0, 0, 3, 9, 0, 5, 9, 5, 5, 8, 3, 6, 9, 7, 5, 2, 6, 5,\n",
      "        8, 5, 0, 7, 4, 1, 9, 1, 7, 8, 8, 2, 7, 1, 9, 5, 6, 9, 1, 0, 1, 5, 5, 9,\n",
      "        5, 8, 2, 2, 4, 9, 5, 3, 5, 6, 1, 4, 4, 1, 4, 4, 6, 9, 9, 2, 1, 1, 4, 1,\n",
      "        2, 1, 7, 0, 3, 7, 6, 2, 4, 8, 6, 9, 2, 8, 0, 4, 5, 5, 0, 6, 4, 1, 7, 5,\n",
      "        7, 7, 9, 8, 4, 4, 7, 7, 6, 4, 1, 2])\n",
      "accuracy 0.6611111111111111\n",
      "loss:  tensor(0.7568, grad_fn=<NllLossBackward0>)\n"
     ]
    },
    {
     "name": "stderr",
     "output_type": "stream",
     "text": [
      " 62%|██████▎   | 50/80 [01:30<00:54,  1.82s/it]"
     ]
    },
    {
     "name": "stdout",
     "output_type": "stream",
     "text": [
      "llllll tensor([4, 7, 5, 5, 5, 1, 6, 5, 5, 1, 5, 3, 8, 3, 9, 3, 0, 9, 1, 7, 0, 2, 3, 6,\n",
      "        4, 2, 2, 5, 9, 2, 6, 9, 5, 2, 9, 3, 0, 8, 1, 1, 7, 9, 1, 2, 1, 0, 5, 2,\n",
      "        0, 6, 6, 4, 1, 2, 2, 1, 6, 6, 5, 8, 6, 5, 1, 9, 7, 1, 7, 5, 0, 9, 9, 1,\n",
      "        4, 3, 1, 5, 6, 8, 1, 5, 3, 2, 8, 7, 3, 9, 4, 1, 4, 7, 4, 1, 1, 6, 8, 0,\n",
      "        6, 8, 6, 7, 5, 9, 4, 7, 0, 8, 8, 9, 3, 4, 6, 9, 7, 6, 0, 9, 1, 4, 0, 0,\n",
      "        0, 1, 3, 1, 0, 2, 5, 2, 9, 4, 8, 2, 1, 0, 6, 4, 7, 6, 7, 8, 2, 8, 4, 6,\n",
      "        9, 3, 3, 6, 4, 1, 8, 4, 0, 7, 2, 4, 2, 3, 6, 6, 7, 0, 4, 9, 0, 9, 9, 9,\n",
      "        9, 0, 4, 0, 8, 1, 9, 1, 5, 8, 0, 2])\n",
      "accuracy 0.6944444444444444\n",
      "loss:  tensor(0.8142, grad_fn=<NllLossBackward0>)\n"
     ]
    },
    {
     "name": "stderr",
     "output_type": "stream",
     "text": [
      " 64%|██████▍   | 51/80 [01:32<00:52,  1.83s/it]"
     ]
    },
    {
     "name": "stdout",
     "output_type": "stream",
     "text": [
      "llllll tensor([7, 5, 0, 8, 4, 1, 3, 4, 1, 9, 6, 7, 5, 4, 5, 6, 1, 3, 1, 3, 0, 5, 0, 4,\n",
      "        8, 4, 2, 9, 5, 3, 9, 5, 0, 0, 5, 9, 0, 3, 9, 1, 1, 6, 4, 8, 4, 0, 6, 9,\n",
      "        6, 8, 3, 7, 9, 4, 8, 0, 7, 6, 1, 3, 5, 1, 6, 4, 9, 9, 6, 0, 6, 9, 0, 1,\n",
      "        0, 0, 1, 4, 9, 1, 5, 3, 3, 2, 5, 3, 9, 0, 8, 5, 6, 5, 9, 7, 6, 2, 2, 1,\n",
      "        9, 2, 4, 1, 9, 3, 5, 0, 9, 8, 5, 1, 1, 2, 0, 0, 1, 4, 1, 5, 7, 5, 7, 3,\n",
      "        5, 6, 8, 8, 0, 6, 0, 0, 3, 0, 4, 0, 4, 9, 5, 9, 2, 0, 2, 8, 2, 9, 9, 1,\n",
      "        1, 5, 3, 9, 0, 7, 7, 7, 6, 1, 5, 8, 8, 4, 4, 1, 8, 3, 0, 4, 1, 4, 7, 2,\n",
      "        6, 3, 7, 1, 6, 7, 1, 3, 2, 1, 6, 3])\n",
      "accuracy 0.6888888888888889\n",
      "loss:  tensor(0.8664, grad_fn=<NllLossBackward0>)\n"
     ]
    },
    {
     "name": "stderr",
     "output_type": "stream",
     "text": [
      " 65%|██████▌   | 52/80 [01:34<00:51,  1.82s/it]"
     ]
    },
    {
     "name": "stdout",
     "output_type": "stream",
     "text": [
      "llllll tensor([0, 5, 9, 8, 2, 5, 0, 7, 3, 6, 7, 3, 6, 7, 2, 4, 8, 6, 1, 1, 1, 4, 8, 9,\n",
      "        5, 0, 1, 0, 9, 7, 6, 6, 9, 2, 6, 0, 9, 7, 1, 7, 8, 2, 8, 1, 8, 3, 4, 9,\n",
      "        6, 1, 6, 0, 4, 8, 8, 5, 2, 9, 0, 1, 1, 4, 1, 6, 1, 7, 3, 6, 4, 0, 1, 7,\n",
      "        2, 6, 6, 4, 6, 1, 4, 9, 9, 5, 2, 6, 4, 0, 7, 5, 1, 2, 2, 8, 9, 5, 5, 9,\n",
      "        6, 0, 4, 1, 4, 7, 1, 9, 7, 8, 3, 9, 3, 8, 1, 8, 3, 1, 3, 1, 1, 0, 1, 2,\n",
      "        8, 5, 8, 4, 9, 8, 1, 9, 5, 0, 3, 2, 6, 4, 7, 0, 0, 3, 5, 9, 6, 5, 4, 5,\n",
      "        5, 1, 0, 7, 8, 4, 6, 4, 5, 5, 1, 7, 1, 8, 3, 0, 0, 9, 2, 3, 4, 9, 5, 5,\n",
      "        7, 7, 5, 2, 4, 0, 0, 7, 8, 3, 7, 3])\n",
      "accuracy 0.6888888888888889\n",
      "loss:  tensor(0.6781, grad_fn=<NllLossBackward0>)\n"
     ]
    },
    {
     "name": "stderr",
     "output_type": "stream",
     "text": [
      " 66%|██████▋   | 53/80 [01:35<00:49,  1.82s/it]"
     ]
    },
    {
     "name": "stdout",
     "output_type": "stream",
     "text": [
      "llllll tensor([6, 1, 9, 1, 5, 0, 9, 0, 1, 9, 2, 4, 9, 2, 7, 5, 6, 7, 3, 7, 4, 5, 8, 0,\n",
      "        5, 1, 0, 6, 2, 9, 3, 2, 1, 5, 5, 0, 1, 8, 9, 1, 1, 6, 9, 6, 4, 1, 1, 7,\n",
      "        0, 5, 6, 4, 8, 0, 7, 7, 6, 0, 8, 1, 9, 8, 9, 7, 6, 0, 0, 6, 7, 5, 6, 0,\n",
      "        0, 5, 7, 4, 8, 3, 2, 3, 7, 0, 9, 0, 9, 6, 3, 3, 5, 8, 4, 8, 9, 1, 6, 4,\n",
      "        3, 5, 7, 1, 8, 1, 6, 2, 6, 2, 4, 4, 7, 9, 5, 8, 1, 1, 4, 0, 5, 4, 8, 0,\n",
      "        1, 8, 2, 8, 9, 7, 2, 4, 5, 6, 4, 1, 2, 7, 9, 4, 0, 6, 1, 0, 0, 3, 9, 2,\n",
      "        1, 1, 9, 4, 3, 5, 7, 1, 0, 5, 1, 8, 3, 8, 5, 1, 5, 5, 8, 2, 0, 9, 9, 6,\n",
      "        9, 5, 4, 5, 4, 8, 9, 6, 2, 1, 7, 2])\n",
      "accuracy 0.6666666666666666\n",
      "loss:  tensor(0.7977, grad_fn=<NllLossBackward0>)\n"
     ]
    },
    {
     "name": "stderr",
     "output_type": "stream",
     "text": [
      " 68%|██████▊   | 54/80 [01:37<00:47,  1.82s/it]"
     ]
    },
    {
     "name": "stdout",
     "output_type": "stream",
     "text": [
      "llllll tensor([5, 3, 8, 9, 1, 4, 6, 9, 2, 3, 4, 9, 1, 5, 0, 6, 1, 1, 7, 0, 3, 5, 8, 2,\n",
      "        5, 5, 2, 2, 3, 1, 1, 0, 3, 9, 4, 1, 4, 4, 3, 7, 5, 3, 5, 9, 1, 9, 9, 0,\n",
      "        6, 8, 1, 1, 9, 9, 1, 1, 6, 6, 4, 0, 4, 4, 3, 6, 3, 1, 6, 0, 0, 3, 1, 0,\n",
      "        8, 4, 1, 8, 7, 8, 7, 1, 4, 8, 5, 6, 4, 9, 1, 5, 4, 6, 4, 6, 9, 5, 9, 1,\n",
      "        1, 0, 6, 6, 9, 7, 4, 9, 7, 0, 2, 2, 6, 4, 4, 2, 9, 0, 5, 3, 5, 4, 8, 7,\n",
      "        1, 3, 0, 4, 8, 4, 7, 6, 7, 9, 3, 0, 0, 8, 5, 2, 8, 2, 3, 0, 0, 0, 2, 4,\n",
      "        5, 7, 7, 0, 6, 8, 1, 4, 2, 7, 9, 9, 0, 7, 0, 1, 0, 2, 6, 7, 4, 9, 9, 5,\n",
      "        0, 0, 3, 1, 9, 9, 3, 0, 0, 9, 5, 5])\n",
      "accuracy 0.7055555555555556\n",
      "loss:  tensor(0.5968, grad_fn=<NllLossBackward0>)\n"
     ]
    },
    {
     "name": "stderr",
     "output_type": "stream",
     "text": [
      " 69%|██████▉   | 55/80 [01:39<00:45,  1.82s/it]"
     ]
    },
    {
     "name": "stdout",
     "output_type": "stream",
     "text": [
      "llllll tensor([2, 1, 7, 6, 0, 0, 0, 7, 6, 1, 9, 7, 2, 3, 5, 4, 8, 1, 6, 1, 1, 5, 9, 7,\n",
      "        7, 5, 9, 2, 9, 5, 8, 0, 4, 0, 2, 0, 5, 0, 4, 0, 7, 4, 3, 2, 1, 7, 0, 9,\n",
      "        4, 3, 0, 6, 3, 4, 7, 5, 0, 2, 5, 5, 6, 9, 9, 9, 9, 9, 5, 0, 1, 1, 0, 9,\n",
      "        1, 1, 1, 6, 7, 3, 8, 1, 2, 6, 1, 9, 8, 7, 5, 7, 5, 7, 4, 3, 7, 8, 4, 4,\n",
      "        4, 0, 7, 8, 6, 6, 0, 9, 3, 6, 0, 7, 3, 0, 6, 0, 6, 9, 9, 9, 9, 2, 1, 1,\n",
      "        5, 6, 5, 0, 0, 9, 6, 1, 8, 2, 3, 3, 4, 5, 8, 9, 5, 4, 6, 4, 1, 6, 0, 1,\n",
      "        4, 4, 9, 1, 8, 4, 4, 5, 1, 1, 5, 9, 0, 0, 2, 6, 5, 0, 2, 1, 2, 1, 9, 1,\n",
      "        2, 5, 6, 4, 3, 8, 8, 1, 5, 2, 8, 8])\n",
      "accuracy 0.7055555555555556\n",
      "loss:  tensor(0.6746, grad_fn=<NllLossBackward0>)\n"
     ]
    },
    {
     "name": "stderr",
     "output_type": "stream",
     "text": [
      " 70%|███████   | 56/80 [01:41<00:43,  1.82s/it]"
     ]
    },
    {
     "name": "stdout",
     "output_type": "stream",
     "text": [
      "llllll tensor([4, 6, 1, 2, 2, 6, 5, 7, 0, 8, 8, 6, 8, 1, 9, 0, 4, 3, 8, 9, 4, 7, 4, 0,\n",
      "        3, 8, 2, 5, 0, 7, 2, 9, 9, 5, 9, 5, 4, 6, 1, 0, 1, 0, 7, 7, 5, 6, 9, 9,\n",
      "        6, 8, 6, 0, 4, 0, 7, 7, 9, 4, 6, 0, 9, 2, 7, 5, 2, 9, 4, 5, 4, 7, 0, 5,\n",
      "        1, 7, 9, 8, 7, 0, 0, 8, 3, 9, 2, 1, 6, 3, 0, 1, 8, 1, 9, 0, 6, 0, 1, 3,\n",
      "        4, 1, 3, 6, 4, 0, 9, 6, 9, 5, 8, 0, 6, 0, 5, 5, 1, 9, 5, 8, 5, 2, 2, 9,\n",
      "        7, 5, 9, 6, 1, 9, 9, 4, 3, 2, 8, 1, 5, 2, 5, 7, 2, 6, 7, 8, 4, 5, 6, 3,\n",
      "        5, 2, 3, 8, 4, 2, 8, 5, 7, 1, 4, 7, 8, 6, 2, 8, 2, 8, 1, 6, 1, 3, 1, 1,\n",
      "        3, 5, 4, 5, 7, 2, 0, 1, 8, 9, 3, 7])\n",
      "accuracy 0.6777777777777778\n",
      "loss:  tensor(0.6190, grad_fn=<NllLossBackward0>)\n"
     ]
    },
    {
     "name": "stderr",
     "output_type": "stream",
     "text": [
      " 71%|███████▏  | 57/80 [01:43<00:41,  1.82s/it]"
     ]
    },
    {
     "name": "stdout",
     "output_type": "stream",
     "text": [
      "llllll tensor([6, 6, 1, 3, 1, 8, 7, 2, 6, 5, 5, 8, 8, 0, 1, 6, 1, 0, 8, 8, 8, 4, 2, 9,\n",
      "        4, 0, 9, 3, 6, 0, 0, 5, 5, 1, 4, 7, 9, 8, 4, 1, 9, 2, 8, 4, 4, 2, 7, 7,\n",
      "        3, 6, 3, 6, 2, 7, 2, 0, 0, 6, 3, 9, 6, 1, 6, 0, 9, 0, 9, 0, 8, 8, 2, 7,\n",
      "        1, 2, 5, 1, 4, 5, 4, 3, 5, 8, 5, 4, 3, 2, 2, 0, 5, 9, 7, 1, 9, 4, 8, 7,\n",
      "        2, 7, 7, 1, 3, 9, 0, 6, 0, 8, 0, 5, 9, 9, 4, 2, 3, 8, 8, 9, 7, 2, 7, 9,\n",
      "        9, 7, 2, 1, 4, 1, 1, 4, 0, 3, 4, 5, 0, 5, 1, 4, 6, 5, 5, 3, 9, 8, 6, 6,\n",
      "        5, 1, 4, 8, 4, 7, 0, 6, 2, 6, 5, 6, 4, 4, 9, 9, 7, 1, 1, 6, 8, 1, 6, 0,\n",
      "        9, 3, 5, 9, 7, 1, 0, 9, 0, 1, 6, 5])\n",
      "accuracy 0.6888888888888889\n",
      "loss:  tensor(0.3935, grad_fn=<NllLossBackward0>)\n"
     ]
    },
    {
     "name": "stderr",
     "output_type": "stream",
     "text": [
      " 72%|███████▎  | 58/80 [01:44<00:39,  1.82s/it]"
     ]
    },
    {
     "name": "stdout",
     "output_type": "stream",
     "text": [
      "llllll tensor([7, 0, 8, 3, 8, 1, 1, 6, 7, 1, 3, 1, 9, 5, 9, 6, 5, 9, 1, 0, 5, 8, 3, 6,\n",
      "        3, 3, 9, 9, 0, 9, 1, 1, 0, 6, 9, 8, 3, 6, 5, 5, 3, 9, 9, 2, 6, 6, 4, 4,\n",
      "        9, 5, 5, 2, 9, 9, 7, 0, 1, 9, 0, 0, 3, 3, 8, 5, 7, 1, 7, 6, 7, 0, 2, 1,\n",
      "        6, 5, 1, 6, 1, 1, 5, 2, 2, 6, 6, 0, 0, 6, 0, 5, 5, 7, 2, 1, 8, 6, 0, 7,\n",
      "        4, 8, 1, 4, 4, 0, 7, 4, 4, 9, 0, 4, 0, 5, 4, 4, 9, 3, 4, 4, 0, 2, 8, 8,\n",
      "        5, 9, 9, 0, 8, 6, 0, 9, 7, 0, 6, 0, 9, 9, 2, 7, 1, 4, 3, 9, 6, 0, 2, 1,\n",
      "        0, 0, 2, 1, 6, 3, 9, 0, 2, 0, 3, 7, 9, 6, 7, 9, 0, 3, 1, 1, 4, 8, 0, 5,\n",
      "        4, 8, 4, 6, 5, 5, 5, 5, 7, 4, 4, 8])\n",
      "accuracy 0.6944444444444444\n",
      "loss:  tensor(0.6456, grad_fn=<NllLossBackward0>)\n"
     ]
    },
    {
     "name": "stderr",
     "output_type": "stream",
     "text": [
      " 74%|███████▍  | 59/80 [01:46<00:37,  1.81s/it]"
     ]
    },
    {
     "name": "stdout",
     "output_type": "stream",
     "text": [
      "llllll tensor([6, 5, 5, 4, 0, 6, 1, 8, 4, 8, 4, 9, 4, 2, 3, 6, 1, 8, 4, 8, 1, 0, 6, 7,\n",
      "        6, 0, 9, 8, 5, 7, 1, 8, 3, 9, 7, 0, 9, 7, 9, 1, 3, 1, 7, 0, 0, 1, 0, 9,\n",
      "        6, 5, 7, 7, 6, 5, 7, 9, 9, 3, 7, 9, 7, 8, 4, 6, 2, 0, 4, 3, 3, 0, 1, 5,\n",
      "        5, 3, 3, 6, 8, 1, 6, 2, 6, 4, 9, 1, 9, 6, 7, 5, 1, 8, 3, 8, 1, 5, 0, 4,\n",
      "        6, 8, 0, 8, 9, 2, 5, 5, 4, 6, 5, 8, 3, 4, 6, 3, 4, 4, 5, 7, 0, 9, 0, 0,\n",
      "        1, 5, 1, 9, 0, 3, 1, 5, 5, 3, 9, 3, 5, 3, 3, 1, 1, 3, 9, 0, 3, 9, 3, 2,\n",
      "        9, 5, 6, 9, 4, 8, 1, 9, 1, 2, 6, 8, 9, 0, 5, 7, 1, 1, 7, 8, 6, 1, 6, 0,\n",
      "        0, 4, 3, 4, 6, 7, 0, 7, 9, 3, 5, 9])\n",
      "accuracy 0.6444444444444445\n",
      "loss:  tensor(0.5140, grad_fn=<NllLossBackward0>)\n"
     ]
    },
    {
     "name": "stderr",
     "output_type": "stream",
     "text": [
      " 75%|███████▌  | 60/80 [01:48<00:36,  1.81s/it]"
     ]
    },
    {
     "name": "stdout",
     "output_type": "stream",
     "text": [
      "llllll tensor([9, 2, 9, 6, 0, 0, 9, 4, 4, 2, 0, 2, 9, 3, 7, 5, 4, 8, 5, 5, 4, 1, 9, 8,\n",
      "        6, 6, 0, 3, 7, 6, 6, 9, 0, 1, 1, 8, 9, 3, 7, 0, 9, 8, 9, 6, 7, 0, 8, 7,\n",
      "        7, 9, 5, 8, 1, 5, 8, 2, 4, 0, 3, 5, 6, 1, 0, 9, 7, 6, 1, 9, 5, 4, 0, 4,\n",
      "        2, 1, 8, 3, 4, 5, 7, 8, 0, 1, 2, 6, 9, 4, 5, 7, 9, 1, 3, 8, 2, 2, 9, 0,\n",
      "        2, 9, 1, 7, 9, 9, 4, 1, 3, 6, 3, 8, 0, 8, 6, 1, 3, 4, 9, 1, 3, 5, 4, 4,\n",
      "        5, 0, 2, 7, 2, 2, 5, 2, 1, 4, 3, 0, 6, 3, 1, 5, 6, 8, 6, 5, 1, 4, 1, 4,\n",
      "        9, 0, 5, 1, 0, 7, 1, 8, 9, 2, 9, 0, 1, 3, 5, 8, 3, 8, 7, 5, 3, 4, 4, 5,\n",
      "        9, 0, 1, 6, 4, 0, 0, 6, 4, 3, 4, 5])\n",
      "accuracy 0.7055555555555556\n",
      "loss:  tensor(0.7168, grad_fn=<NllLossBackward0>)\n"
     ]
    },
    {
     "name": "stderr",
     "output_type": "stream",
     "text": [
      " 76%|███████▋  | 61/80 [01:50<00:34,  1.81s/it]"
     ]
    },
    {
     "name": "stdout",
     "output_type": "stream",
     "text": [
      "llllll tensor([7, 0, 4, 1, 0, 1, 5, 5, 4, 3, 0, 8, 9, 9, 4, 1, 9, 2, 9, 3, 7, 5, 4, 0,\n",
      "        2, 5, 3, 9, 8, 2, 0, 1, 9, 6, 8, 6, 6, 3, 7, 8, 3, 9, 5, 7, 0, 9, 1, 6,\n",
      "        8, 9, 3, 9, 0, 5, 2, 1, 5, 6, 7, 7, 4, 8, 8, 6, 1, 7, 7, 3, 3, 0, 9, 1,\n",
      "        1, 7, 8, 2, 9, 6, 1, 1, 0, 6, 0, 3, 5, 5, 1, 0, 6, 4, 9, 6, 1, 6, 6, 3,\n",
      "        6, 6, 4, 0, 1, 5, 4, 5, 8, 9, 7, 5, 4, 4, 1, 9, 4, 0, 4, 1, 6, 3, 4, 3,\n",
      "        6, 9, 3, 1, 8, 8, 0, 4, 7, 5, 9, 4, 9, 9, 5, 3, 8, 0, 8, 5, 0, 9, 0, 4,\n",
      "        4, 1, 3, 4, 0, 6, 3, 8, 6, 1, 6, 1, 3, 7, 1, 0, 9, 0, 5, 0, 1, 3, 9, 5,\n",
      "        6, 5, 1, 0, 9, 1, 2, 3, 9, 6, 1, 3])\n",
      "accuracy 0.6666666666666666\n",
      "loss:  tensor(0.6381, grad_fn=<NllLossBackward0>)\n"
     ]
    },
    {
     "name": "stderr",
     "output_type": "stream",
     "text": [
      " 78%|███████▊  | 62/80 [01:52<00:33,  1.84s/it]"
     ]
    },
    {
     "name": "stdout",
     "output_type": "stream",
     "text": [
      "llllll tensor([4, 9, 8, 6, 3, 3, 2, 5, 4, 8, 3, 7, 1, 1, 8, 8, 0, 8, 4, 9, 9, 6, 2, 9,\n",
      "        0, 5, 0, 8, 3, 1, 0, 5, 7, 6, 4, 0, 7, 5, 1, 1, 9, 3, 1, 6, 8, 6, 6, 9,\n",
      "        6, 2, 9, 3, 1, 7, 9, 3, 7, 3, 6, 1, 4, 3, 5, 3, 4, 9, 1, 3, 6, 5, 4, 1,\n",
      "        6, 3, 2, 7, 1, 3, 9, 7, 9, 7, 4, 5, 4, 6, 0, 1, 1, 4, 4, 0, 3, 0, 8, 6,\n",
      "        5, 0, 8, 4, 9, 7, 1, 0, 3, 8, 5, 1, 5, 7, 1, 6, 6, 1, 7, 5, 2, 3, 0, 9,\n",
      "        3, 8, 1, 9, 0, 2, 4, 6, 5, 2, 8, 7, 5, 6, 8, 9, 6, 0, 0, 0, 8, 1, 0, 4,\n",
      "        5, 5, 9, 5, 9, 6, 9, 2, 3, 3, 1, 2, 5, 9, 0, 1, 5, 4, 0, 1, 3, 0, 6, 1,\n",
      "        3, 0, 4, 0, 1, 5, 5, 4, 9, 4, 7, 0])\n",
      "accuracy 0.6888888888888889\n",
      "loss:  tensor(0.4973, grad_fn=<NllLossBackward0>)\n"
     ]
    },
    {
     "name": "stderr",
     "output_type": "stream",
     "text": [
      " 79%|███████▉  | 63/80 [01:54<00:31,  1.83s/it]"
     ]
    },
    {
     "name": "stdout",
     "output_type": "stream",
     "text": [
      "llllll tensor([1, 5, 0, 5, 9, 8, 2, 4, 1, 9, 0, 3, 7, 6, 4, 7, 1, 1, 1, 8, 3, 0, 0, 1,\n",
      "        9, 9, 1, 8, 4, 9, 8, 8, 0, 0, 1, 8, 6, 3, 4, 0, 9, 1, 3, 1, 8, 1, 7, 4,\n",
      "        5, 0, 2, 1, 3, 3, 1, 2, 2, 8, 4, 1, 2, 9, 2, 9, 3, 8, 7, 6, 6, 8, 6, 5,\n",
      "        5, 3, 0, 2, 5, 0, 3, 9, 9, 5, 0, 9, 5, 3, 9, 4, 7, 0, 8, 2, 8, 6, 7, 1,\n",
      "        6, 5, 4, 4, 4, 8, 2, 0, 6, 0, 9, 5, 8, 6, 3, 6, 1, 2, 6, 8, 6, 7, 4, 7,\n",
      "        1, 2, 6, 9, 1, 5, 4, 2, 5, 5, 4, 0, 1, 0, 6, 6, 2, 9, 7, 1, 6, 6, 9, 1,\n",
      "        4, 0, 7, 1, 2, 5, 9, 0, 4, 6, 5, 6, 1, 5, 7, 6, 4, 9, 0, 2, 2, 6, 5, 8,\n",
      "        3, 5, 4, 7, 2, 3, 1, 9, 8, 0, 1, 0])\n",
      "accuracy 0.6944444444444444\n",
      "loss:  tensor(0.4796, grad_fn=<NllLossBackward0>)\n"
     ]
    },
    {
     "name": "stderr",
     "output_type": "stream",
     "text": [
      " 80%|████████  | 64/80 [01:55<00:29,  1.83s/it]"
     ]
    },
    {
     "name": "stdout",
     "output_type": "stream",
     "text": [
      "llllll tensor([3, 9, 2, 1, 5, 1, 1, 0, 8, 3, 7, 8, 1, 6, 3, 6, 2, 6, 1, 0, 1, 9, 6, 1,\n",
      "        2, 2, 4, 3, 4, 7, 1, 1, 6, 5, 4, 8, 9, 5, 7, 6, 5, 5, 4, 1, 8, 4, 1, 3,\n",
      "        6, 2, 2, 2, 4, 1, 1, 8, 9, 3, 6, 1, 4, 9, 2, 0, 3, 9, 8, 6, 0, 9, 4, 6,\n",
      "        9, 5, 0, 5, 2, 8, 3, 8, 8, 5, 9, 8, 0, 1, 0, 5, 5, 0, 6, 4, 2, 9, 2, 4,\n",
      "        0, 1, 4, 8, 7, 8, 2, 5, 1, 5, 2, 5, 5, 6, 0, 9, 8, 7, 0, 9, 4, 4, 6, 1,\n",
      "        2, 8, 3, 4, 5, 4, 7, 8, 0, 0, 1, 9, 6, 3, 9, 7, 5, 6, 0, 1, 8, 2, 3, 1,\n",
      "        9, 7, 9, 6, 8, 0, 4, 2, 7, 2, 0, 6, 9, 3, 2, 6, 8, 6, 9, 9, 4, 6, 7, 7,\n",
      "        5, 3, 0, 7, 9, 5, 0, 9, 3, 1, 7, 0])\n",
      "accuracy 0.7111111111111111\n",
      "loss:  tensor(0.6947, grad_fn=<NllLossBackward0>)\n"
     ]
    },
    {
     "name": "stderr",
     "output_type": "stream",
     "text": [
      " 81%|████████▏ | 65/80 [01:57<00:27,  1.82s/it]"
     ]
    },
    {
     "name": "stdout",
     "output_type": "stream",
     "text": [
      "llllll tensor([2, 0, 6, 2, 0, 9, 9, 1, 6, 2, 2, 7, 7, 1, 1, 8, 8, 5, 0, 8, 8, 9, 0, 7,\n",
      "        2, 6, 3, 1, 4, 8, 2, 4, 5, 6, 3, 0, 3, 3, 7, 6, 7, 8, 6, 9, 1, 5, 6, 4,\n",
      "        2, 0, 4, 6, 1, 0, 4, 1, 4, 6, 1, 0, 0, 8, 5, 8, 9, 5, 9, 3, 0, 5, 9, 5,\n",
      "        9, 8, 4, 4, 7, 5, 5, 8, 4, 6, 8, 1, 9, 9, 1, 9, 5, 4, 1, 6, 3, 6, 0, 8,\n",
      "        0, 7, 2, 6, 9, 0, 6, 0, 9, 4, 1, 9, 5, 4, 5, 3, 0, 8, 6, 3, 1, 0, 3, 1,\n",
      "        5, 3, 6, 1, 5, 1, 5, 5, 1, 3, 5, 2, 5, 4, 0, 8, 6, 9, 7, 5, 2, 2, 5, 2,\n",
      "        7, 6, 3, 0, 0, 0, 2, 1, 0, 3, 7, 6, 9, 5, 0, 8, 9, 9, 4, 8, 4, 9, 8, 8,\n",
      "        4, 7, 3, 1, 4, 0, 2, 0, 9, 4, 7, 7])\n",
      "accuracy 0.6944444444444444\n",
      "loss:  tensor(0.5098, grad_fn=<NllLossBackward0>)\n"
     ]
    },
    {
     "name": "stderr",
     "output_type": "stream",
     "text": [
      " 82%|████████▎ | 66/80 [01:59<00:25,  1.83s/it]"
     ]
    },
    {
     "name": "stdout",
     "output_type": "stream",
     "text": [
      "llllll tensor([7, 9, 6, 8, 4, 1, 3, 0, 4, 1, 9, 0, 1, 0, 6, 3, 7, 1, 0, 1, 3, 7, 8, 1,\n",
      "        9, 7, 5, 4, 7, 7, 8, 2, 0, 4, 2, 6, 4, 0, 6, 3, 6, 7, 6, 5, 8, 6, 9, 8,\n",
      "        4, 5, 4, 4, 5, 3, 9, 9, 1, 4, 3, 9, 7, 5, 6, 0, 3, 1, 9, 5, 9, 5, 4, 6,\n",
      "        4, 0, 8, 6, 5, 6, 5, 6, 9, 5, 9, 3, 9, 2, 6, 1, 2, 7, 3, 3, 8, 4, 6, 6,\n",
      "        8, 9, 5, 8, 7, 5, 3, 0, 1, 3, 1, 2, 2, 5, 4, 9, 2, 1, 9, 5, 0, 0, 7, 8,\n",
      "        7, 5, 4, 3, 8, 8, 6, 6, 9, 0, 8, 7, 5, 5, 0, 7, 4, 8, 1, 3, 8, 1, 4, 0,\n",
      "        4, 1, 8, 4, 7, 9, 9, 9, 2, 1, 1, 0, 9, 8, 3, 5, 9, 0, 4, 1, 6, 8, 7, 5,\n",
      "        1, 0, 0, 1, 7, 3, 9, 5, 9, 8, 9, 3])\n",
      "accuracy 0.6833333333333333\n",
      "loss:  tensor(0.6498, grad_fn=<NllLossBackward0>)\n"
     ]
    },
    {
     "name": "stderr",
     "output_type": "stream",
     "text": [
      " 84%|████████▍ | 67/80 [02:01<00:23,  1.83s/it]"
     ]
    },
    {
     "name": "stdout",
     "output_type": "stream",
     "text": [
      "llllll tensor([7, 5, 0, 2, 9, 9, 1, 0, 1, 5, 5, 1, 9, 0, 1, 8, 4, 0, 9, 5, 5, 9, 0, 1,\n",
      "        0, 1, 2, 6, 8, 8, 7, 8, 1, 0, 5, 8, 4, 9, 7, 8, 8, 4, 7, 4, 5, 7, 4, 7,\n",
      "        7, 6, 6, 2, 4, 6, 8, 5, 0, 4, 1, 1, 5, 4, 2, 0, 8, 0, 7, 0, 8, 3, 8, 2,\n",
      "        3, 6, 3, 0, 4, 6, 9, 1, 3, 1, 0, 0, 0, 5, 4, 5, 3, 9, 2, 1, 5, 9, 9, 5,\n",
      "        9, 7, 3, 3, 3, 0, 8, 2, 3, 5, 1, 9, 9, 1, 7, 0, 4, 2, 6, 6, 1, 7, 0, 2,\n",
      "        9, 9, 3, 6, 1, 4, 6, 5, 3, 5, 3, 5, 1, 0, 4, 2, 1, 8, 9, 4, 4, 8, 0, 8,\n",
      "        7, 6, 8, 5, 3, 9, 6, 8, 1, 8, 9, 4, 5, 0, 1, 9, 8, 0, 4, 1, 8, 6, 1, 2,\n",
      "        0, 5, 5, 3, 0, 3, 1, 5, 5, 4, 6, 6])\n",
      "accuracy 0.6555555555555556\n",
      "loss:  tensor(0.5048, grad_fn=<NllLossBackward0>)\n"
     ]
    },
    {
     "name": "stderr",
     "output_type": "stream",
     "text": [
      " 85%|████████▌ | 68/80 [02:03<00:21,  1.82s/it]"
     ]
    },
    {
     "name": "stdout",
     "output_type": "stream",
     "text": [
      "llllll tensor([9, 5, 2, 9, 5, 2, 9, 2, 1, 0, 6, 6, 5, 9, 6, 4, 7, 3, 9, 0, 9, 1, 6, 4,\n",
      "        8, 5, 8, 7, 5, 9, 1, 2, 3, 1, 7, 3, 0, 3, 3, 2, 4, 0, 6, 8, 7, 1, 3, 4,\n",
      "        1, 0, 1, 9, 2, 1, 9, 0, 5, 4, 5, 0, 0, 2, 2, 9, 1, 2, 1, 4, 8, 5, 1, 6,\n",
      "        8, 6, 0, 6, 8, 0, 4, 2, 2, 0, 9, 0, 9, 5, 4, 5, 2, 2, 0, 7, 2, 4, 2, 4,\n",
      "        1, 9, 7, 3, 9, 5, 0, 5, 7, 9, 6, 5, 8, 5, 4, 0, 3, 6, 0, 9, 6, 2, 3, 5,\n",
      "        1, 2, 8, 9, 3, 8, 6, 7, 1, 3, 7, 0, 7, 5, 7, 4, 4, 6, 5, 5, 9, 7, 5, 9,\n",
      "        9, 8, 1, 4, 6, 2, 1, 2, 4, 9, 6, 5, 0, 4, 9, 8, 4, 3, 7, 4, 9, 6, 1, 1,\n",
      "        0, 7, 0, 5, 6, 0, 8, 8, 9, 3, 9, 1])\n",
      "accuracy 0.6611111111111111\n",
      "loss:  tensor(0.5493, grad_fn=<NllLossBackward0>)\n"
     ]
    },
    {
     "name": "stderr",
     "output_type": "stream",
     "text": [
      " 86%|████████▋ | 69/80 [02:04<00:20,  1.82s/it]"
     ]
    },
    {
     "name": "stdout",
     "output_type": "stream",
     "text": [
      "llllll tensor([0, 3, 5, 0, 3, 5, 2, 2, 0, 4, 4, 1, 9, 4, 2, 2, 0, 4, 6, 1, 0, 4, 0, 5,\n",
      "        0, 8, 4, 5, 2, 8, 4, 7, 2, 4, 8, 1, 1, 6, 3, 4, 5, 9, 9, 0, 1, 6, 2, 9,\n",
      "        5, 1, 7, 7, 0, 8, 2, 5, 8, 1, 8, 1, 0, 8, 1, 9, 7, 6, 8, 9, 2, 8, 0, 6,\n",
      "        2, 6, 2, 0, 8, 7, 5, 1, 5, 7, 4, 0, 7, 6, 8, 5, 7, 3, 0, 6, 4, 1, 2, 4,\n",
      "        5, 4, 4, 6, 4, 9, 6, 5, 7, 6, 2, 8, 7, 5, 0, 0, 7, 8, 1, 7, 4, 5, 2, 3,\n",
      "        6, 9, 5, 6, 8, 5, 8, 3, 6, 5, 1, 7, 6, 9, 9, 0, 0, 9, 4, 3, 0, 6, 1, 3,\n",
      "        1, 6, 0, 3, 5, 0, 0, 7, 6, 6, 0, 7, 0, 2, 0, 5, 1, 1, 3, 9, 1, 9, 1, 3,\n",
      "        9, 9, 9, 6, 9, 0, 1, 9, 8, 5, 1, 0])\n",
      "accuracy 0.6888888888888889\n",
      "loss:  tensor(0.3493, grad_fn=<NllLossBackward0>)\n"
     ]
    },
    {
     "name": "stderr",
     "output_type": "stream",
     "text": [
      " 88%|████████▊ | 70/80 [02:06<00:18,  1.83s/it]"
     ]
    },
    {
     "name": "stdout",
     "output_type": "stream",
     "text": [
      "llllll tensor([1, 9, 4, 0, 1, 7, 1, 2, 5, 6, 7, 4, 5, 5, 0, 5, 0, 0, 9, 4, 9, 9, 8, 0,\n",
      "        4, 7, 3, 3, 3, 7, 6, 6, 5, 9, 1, 3, 3, 8, 0, 5, 1, 5, 5, 4, 0, 1, 8, 1,\n",
      "        2, 9, 4, 5, 4, 6, 8, 4, 3, 4, 4, 9, 9, 9, 9, 0, 9, 9, 6, 5, 2, 1, 9, 4,\n",
      "        7, 0, 1, 9, 1, 0, 1, 2, 0, 5, 7, 5, 7, 6, 6, 0, 7, 5, 6, 3, 6, 1, 0, 3,\n",
      "        3, 6, 1, 8, 0, 8, 2, 0, 9, 0, 3, 1, 6, 1, 0, 0, 3, 3, 0, 5, 5, 2, 0, 7,\n",
      "        3, 8, 1, 3, 2, 3, 5, 4, 3, 7, 6, 0, 8, 1, 4, 5, 5, 0, 9, 7, 6, 1, 9, 6,\n",
      "        1, 4, 3, 2, 4, 9, 8, 9, 4, 9, 4, 6, 7, 3, 6, 0, 1, 9, 2, 5, 3, 0, 5, 1,\n",
      "        7, 8, 2, 4, 9, 6, 2, 8, 8, 7, 1, 8])\n",
      "accuracy 0.6777777777777778\n",
      "loss:  tensor(0.6156, grad_fn=<NllLossBackward0>)\n"
     ]
    },
    {
     "name": "stderr",
     "output_type": "stream",
     "text": [
      " 89%|████████▉ | 71/80 [02:08<00:16,  1.83s/it]"
     ]
    },
    {
     "name": "stdout",
     "output_type": "stream",
     "text": [
      "llllll tensor([5, 4, 0, 8, 4, 8, 8, 9, 9, 7, 7, 1, 1, 2, 8, 4, 1, 9, 5, 4, 7, 9, 8, 9,\n",
      "        8, 3, 9, 7, 6, 0, 9, 0, 1, 5, 6, 0, 9, 2, 7, 2, 1, 6, 5, 5, 5, 1, 0, 9,\n",
      "        8, 4, 8, 5, 3, 0, 2, 0, 6, 6, 2, 7, 1, 9, 6, 2, 9, 5, 3, 0, 4, 5, 9, 2,\n",
      "        0, 6, 2, 4, 1, 2, 4, 5, 0, 2, 4, 4, 0, 6, 0, 5, 9, 1, 8, 6, 3, 1, 9, 4,\n",
      "        2, 9, 6, 3, 3, 6, 6, 4, 3, 5, 8, 2, 3, 2, 3, 4, 7, 1, 9, 7, 1, 4, 2, 6,\n",
      "        9, 7, 1, 0, 7, 9, 8, 0, 8, 0, 4, 7, 9, 6, 8, 1, 6, 3, 9, 9, 9, 5, 6, 5,\n",
      "        9, 1, 9, 0, 5, 3, 1, 7, 3, 8, 2, 0, 7, 5, 2, 3, 0, 6, 0, 0, 4, 5, 1, 5,\n",
      "        1, 4, 8, 4, 5, 5, 2, 1, 4, 9, 1, 7])\n",
      "accuracy 0.6888888888888889\n",
      "loss:  tensor(0.4387, grad_fn=<NllLossBackward0>)\n"
     ]
    },
    {
     "name": "stderr",
     "output_type": "stream",
     "text": [
      " 90%|█████████ | 72/80 [02:10<00:14,  1.83s/it]"
     ]
    },
    {
     "name": "stdout",
     "output_type": "stream",
     "text": [
      "llllll tensor([4, 5, 8, 4, 0, 3, 4, 8, 9, 2, 5, 1, 8, 1, 1, 5, 1, 4, 1, 4, 5, 1, 2, 1,\n",
      "        2, 4, 1, 2, 4, 5, 5, 9, 3, 8, 8, 2, 7, 1, 1, 8, 9, 9, 7, 6, 6, 0, 1, 5,\n",
      "        1, 7, 8, 1, 3, 8, 0, 0, 5, 9, 6, 7, 9, 2, 4, 1, 0, 9, 8, 9, 5, 5, 9, 9,\n",
      "        9, 2, 0, 0, 5, 4, 4, 7, 2, 5, 2, 9, 0, 7, 2, 6, 2, 0, 5, 6, 6, 3, 5, 2,\n",
      "        6, 7, 4, 1, 9, 0, 7, 9, 6, 9, 9, 5, 1, 3, 8, 4, 7, 0, 3, 4, 7, 4, 6, 9,\n",
      "        6, 5, 2, 2, 6, 0, 7, 0, 6, 9, 6, 1, 7, 3, 3, 6, 3, 3, 4, 9, 1, 6, 4, 0,\n",
      "        2, 2, 1, 9, 7, 2, 0, 7, 3, 3, 3, 1, 7, 9, 4, 0, 8, 8, 7, 4, 5, 5, 8, 5,\n",
      "        6, 8, 9, 0, 6, 0, 4, 0, 7, 0, 5, 4])\n",
      "accuracy 0.7\n",
      "loss:  tensor(0.4518, grad_fn=<NllLossBackward0>)\n"
     ]
    },
    {
     "name": "stderr",
     "output_type": "stream",
     "text": [
      " 91%|█████████▏| 73/80 [02:12<00:12,  1.82s/it]"
     ]
    },
    {
     "name": "stdout",
     "output_type": "stream",
     "text": [
      "llllll tensor([3, 8, 5, 9, 9, 5, 1, 2, 0, 9, 2, 6, 4, 9, 1, 1, 5, 1, 3, 2, 1, 2, 3, 7,\n",
      "        9, 9, 9, 0, 4, 3, 2, 2, 1, 0, 8, 0, 0, 6, 5, 7, 6, 7, 6, 6, 1, 8, 5, 1,\n",
      "        9, 4, 6, 3, 6, 7, 9, 3, 9, 2, 7, 6, 1, 5, 4, 4, 6, 9, 3, 0, 5, 2, 6, 1,\n",
      "        0, 3, 5, 9, 9, 1, 9, 1, 5, 5, 1, 0, 6, 4, 4, 2, 5, 2, 4, 2, 5, 5, 6, 4,\n",
      "        4, 1, 0, 4, 4, 2, 0, 2, 5, 9, 8, 3, 9, 1, 9, 8, 9, 9, 3, 5, 0, 1, 9, 1,\n",
      "        0, 0, 7, 7, 4, 7, 6, 6, 9, 0, 7, 8, 7, 5, 6, 5, 2, 2, 6, 7, 8, 1, 8, 0,\n",
      "        7, 4, 5, 3, 0, 4, 1, 0, 0, 9, 9, 4, 0, 9, 9, 1, 7, 4, 6, 0, 8, 2, 5, 8,\n",
      "        8, 7, 1, 5, 1, 6, 4, 4, 2, 9, 4, 9])\n",
      "accuracy 0.7111111111111111\n",
      "loss:  tensor(0.3939, grad_fn=<NllLossBackward0>)\n"
     ]
    },
    {
     "name": "stderr",
     "output_type": "stream",
     "text": [
      " 92%|█████████▎| 74/80 [02:14<00:10,  1.82s/it]"
     ]
    },
    {
     "name": "stdout",
     "output_type": "stream",
     "text": [
      "llllll tensor([9, 7, 3, 4, 7, 3, 6, 6, 1, 5, 2, 5, 9, 5, 0, 6, 7, 0, 9, 2, 5, 9, 1, 0,\n",
      "        9, 6, 9, 9, 1, 6, 4, 1, 4, 5, 0, 8, 0, 9, 2, 1, 4, 0, 4, 0, 4, 7, 2, 9,\n",
      "        5, 5, 4, 1, 7, 8, 6, 5, 7, 2, 6, 4, 2, 6, 5, 0, 6, 1, 9, 2, 5, 0, 1, 1,\n",
      "        1, 9, 8, 4, 2, 5, 4, 9, 9, 9, 2, 0, 0, 7, 3, 4, 5, 3, 0, 4, 0, 8, 7, 1,\n",
      "        2, 8, 1, 1, 9, 5, 0, 9, 7, 4, 6, 3, 5, 0, 5, 4, 1, 4, 6, 0, 5, 0, 9, 6,\n",
      "        6, 6, 3, 7, 3, 3, 9, 1, 8, 0, 4, 9, 8, 7, 5, 3, 1, 2, 1, 9, 0, 2, 7, 6,\n",
      "        8, 4, 9, 8, 1, 1, 3, 8, 1, 4, 9, 9, 0, 1, 3, 6, 0, 2, 0, 9, 5, 6, 1, 4,\n",
      "        8, 2, 7, 1, 5, 9, 5, 6, 9, 9, 0, 4])\n",
      "accuracy 0.7111111111111111\n",
      "loss:  tensor(0.3956, grad_fn=<NllLossBackward0>)\n"
     ]
    },
    {
     "name": "stderr",
     "output_type": "stream",
     "text": [
      " 94%|█████████▍| 75/80 [02:15<00:09,  1.82s/it]"
     ]
    },
    {
     "name": "stdout",
     "output_type": "stream",
     "text": [
      "llllll tensor([9, 7, 2, 5, 4, 8, 1, 1, 0, 9, 5, 1, 0, 5, 5, 8, 8, 0, 0, 4, 2, 9, 9, 0,\n",
      "        1, 5, 1, 6, 6, 3, 6, 2, 1, 5, 5, 6, 1, 6, 6, 4, 2, 1, 9, 5, 6, 6, 4, 1,\n",
      "        5, 9, 4, 5, 1, 8, 3, 0, 9, 2, 6, 9, 5, 7, 1, 3, 4, 5, 9, 2, 8, 5, 4, 9,\n",
      "        6, 8, 9, 6, 0, 1, 4, 0, 9, 2, 8, 7, 9, 8, 1, 7, 4, 5, 4, 9, 0, 3, 2, 0,\n",
      "        9, 0, 0, 3, 0, 0, 7, 9, 9, 2, 3, 2, 7, 1, 0, 2, 3, 4, 6, 0, 1, 9, 1, 6,\n",
      "        6, 7, 5, 8, 2, 1, 0, 4, 4, 5, 0, 4, 2, 7, 3, 3, 8, 0, 4, 6, 5, 4, 9, 8,\n",
      "        1, 7, 7, 9, 0, 0, 6, 7, 8, 9, 7, 1, 6, 0, 9, 4, 9, 1, 2, 1, 6, 4, 2, 0,\n",
      "        2, 7, 5, 5, 6, 2, 1, 4, 3, 7, 4, 9])\n",
      "accuracy 0.7055555555555556\n",
      "loss:  tensor(0.6435, grad_fn=<NllLossBackward0>)\n"
     ]
    },
    {
     "name": "stderr",
     "output_type": "stream",
     "text": [
      " 95%|█████████▌| 76/80 [02:17<00:07,  1.82s/it]"
     ]
    },
    {
     "name": "stdout",
     "output_type": "stream",
     "text": [
      "llllll tensor([6, 1, 2, 7, 9, 3, 0, 4, 6, 1, 0, 1, 3, 0, 4, 7, 3, 5, 9, 6, 1, 9, 1, 7,\n",
      "        9, 2, 8, 1, 2, 1, 4, 9, 9, 9, 5, 8, 1, 4, 6, 2, 1, 9, 9, 3, 4, 1, 3, 1,\n",
      "        2, 6, 0, 9, 6, 4, 4, 5, 5, 4, 5, 9, 6, 2, 7, 4, 2, 3, 8, 5, 9, 0, 0, 0,\n",
      "        2, 1, 9, 4, 0, 1, 5, 7, 6, 5, 5, 3, 8, 4, 8, 5, 9, 3, 8, 8, 7, 7, 9, 1,\n",
      "        6, 9, 2, 4, 5, 0, 1, 9, 5, 1, 8, 6, 9, 3, 9, 8, 0, 2, 0, 6, 6, 0, 9, 4,\n",
      "        2, 6, 0, 5, 7, 9, 0, 4, 4, 3, 5, 6, 0, 5, 5, 4, 4, 3, 1, 9, 7, 8, 0, 1,\n",
      "        0, 1, 6, 2, 2, 3, 2, 4, 7, 0, 6, 1, 0, 1, 1, 6, 0, 3, 6, 1, 9, 3, 5, 1,\n",
      "        9, 0, 0, 8, 7, 5, 4, 5, 7, 9, 4, 8])\n",
      "accuracy 0.7166666666666667\n",
      "loss:  tensor(0.3622, grad_fn=<NllLossBackward0>)\n"
     ]
    },
    {
     "name": "stderr",
     "output_type": "stream",
     "text": [
      " 96%|█████████▋| 77/80 [02:19<00:05,  1.82s/it]"
     ]
    },
    {
     "name": "stdout",
     "output_type": "stream",
     "text": [
      "llllll tensor([5, 0, 4, 3, 4, 1, 5, 4, 6, 3, 9, 3, 5, 0, 6, 5, 3, 7, 9, 6, 9, 0, 8, 1,\n",
      "        0, 6, 1, 8, 4, 4, 3, 7, 5, 2, 7, 2, 3, 1, 2, 0, 9, 7, 5, 4, 4, 7, 1, 9,\n",
      "        7, 3, 4, 3, 1, 0, 1, 4, 6, 5, 4, 9, 5, 2, 0, 0, 3, 9, 9, 6, 1, 0, 2, 9,\n",
      "        1, 7, 9, 8, 8, 4, 6, 3, 2, 8, 6, 2, 1, 6, 0, 9, 5, 0, 9, 1, 1, 5, 2, 5,\n",
      "        6, 3, 7, 1, 3, 4, 8, 9, 5, 7, 5, 8, 5, 0, 5, 7, 5, 2, 7, 2, 9, 6, 2, 0,\n",
      "        7, 1, 9, 4, 9, 6, 1, 9, 6, 5, 9, 1, 5, 3, 6, 9, 4, 1, 8, 3, 0, 0, 0, 9,\n",
      "        6, 6, 1, 8, 9, 1, 4, 1, 9, 5, 4, 9, 3, 6, 9, 1, 8, 0, 1, 8, 7, 3, 3, 5,\n",
      "        8, 5, 1, 1, 0, 0, 3, 2, 4, 3, 0, 6])\n",
      "accuracy 0.6944444444444444\n",
      "loss:  tensor(0.5659, grad_fn=<NllLossBackward0>)\n"
     ]
    },
    {
     "name": "stderr",
     "output_type": "stream",
     "text": [
      " 98%|█████████▊| 78/80 [02:21<00:03,  1.82s/it]"
     ]
    },
    {
     "name": "stdout",
     "output_type": "stream",
     "text": [
      "llllll tensor([8, 3, 7, 1, 4, 9, 4, 7, 9, 6, 4, 1, 6, 6, 8, 1, 1, 3, 8, 3, 3, 6, 9, 1,\n",
      "        5, 0, 6, 4, 7, 1, 0, 9, 7, 3, 4, 5, 6, 4, 7, 5, 6, 4, 2, 3, 5, 6, 6, 0,\n",
      "        2, 9, 1, 3, 9, 6, 2, 6, 8, 2, 4, 3, 1, 2, 9, 6, 5, 7, 0, 0, 0, 3, 0, 0,\n",
      "        3, 0, 5, 5, 1, 1, 7, 6, 8, 4, 2, 3, 1, 0, 5, 4, 2, 6, 4, 3, 1, 5, 8, 4,\n",
      "        5, 7, 5, 5, 3, 0, 4, 5, 2, 8, 0, 1, 4, 2, 1, 9, 0, 7, 9, 7, 9, 6, 6, 7,\n",
      "        6, 8, 1, 8, 9, 3, 5, 1, 6, 4, 8, 9, 4, 9, 0, 7, 3, 1, 9, 9, 0, 1, 3, 3,\n",
      "        7, 2, 0, 5, 8, 1, 9, 1, 6, 6, 9, 3, 3, 6, 9, 4, 8, 0, 8, 5, 9, 1, 0, 9,\n",
      "        8, 1, 0, 8, 5, 4, 9, 1, 8, 3, 0, 5])\n",
      "accuracy 0.7\n",
      "loss:  tensor(0.3450, grad_fn=<NllLossBackward0>)\n"
     ]
    },
    {
     "name": "stderr",
     "output_type": "stream",
     "text": [
      " 99%|█████████▉| 79/80 [02:23<00:01,  1.81s/it]"
     ]
    },
    {
     "name": "stdout",
     "output_type": "stream",
     "text": [
      "llllll tensor([9, 9, 6, 1, 1, 8, 9, 4, 2, 8, 9, 0, 6, 7, 1, 6, 8, 2, 3, 6, 0, 1, 4, 6,\n",
      "        5, 4, 6, 7, 4, 4, 9, 5, 0, 0, 8, 6, 5, 1, 8, 3, 6, 0, 0, 4, 3, 5, 7, 3,\n",
      "        9, 0, 5, 4, 0, 8, 8, 5, 0, 4, 2, 8, 0, 8, 7, 3, 2, 5, 0, 6, 3, 9, 1, 9,\n",
      "        0, 3, 4, 1, 1, 2, 0, 5, 0, 4, 6, 0, 9, 1, 1, 4, 3, 7, 6, 0, 1, 3, 3, 9,\n",
      "        8, 8, 1, 1, 5, 4, 6, 2, 9, 4, 6, 5, 9, 7, 7, 8, 1, 6, 7, 9, 8, 9, 2, 7,\n",
      "        1, 5, 9, 6, 3, 2, 5, 2, 6, 3, 1, 6, 9, 9, 1, 9, 1, 0, 7, 7, 4, 6, 1, 2,\n",
      "        8, 9, 2, 0, 8, 5, 0, 7, 3, 9, 4, 4, 1, 3, 4, 5, 3, 1, 2, 0, 9, 1, 6, 9,\n",
      "        2, 5, 5, 3, 9, 5, 5, 0, 5, 0, 9, 6])\n",
      "accuracy 0.7\n",
      "loss:  tensor(0.7166, grad_fn=<NllLossBackward0>)\n"
     ]
    },
    {
     "name": "stderr",
     "output_type": "stream",
     "text": [
      "100%|██████████| 80/80 [02:25<00:00,  1.81s/it]"
     ]
    },
    {
     "name": "stdout",
     "output_type": "stream",
     "text": [
      "llllll tensor([9, 0, 9, 6, 1, 0, 4, 4, 9, 3, 5, 2, 0, 8, 9, 2, 2, 7, 3, 0, 1, 9, 1, 8,\n",
      "        0, 7, 0, 1, 1, 0, 2, 5, 5, 8, 6, 3, 8, 1, 4, 4, 8, 1, 2, 1, 2, 4, 1, 7,\n",
      "        6, 9, 6, 5, 2, 9, 1, 6, 5, 0, 4, 0, 0, 1, 0, 3, 8, 4, 5, 3, 9, 5, 6, 5,\n",
      "        7, 6, 3, 4, 3, 0, 7, 0, 5, 7, 8, 6, 9, 1, 6, 2, 6, 5, 9, 3, 3, 9, 9, 2,\n",
      "        7, 7, 9, 4, 3, 6, 7, 8, 0, 3, 1, 5, 2, 5, 1, 9, 6, 3, 1, 7, 2, 4, 7, 9,\n",
      "        5, 5, 4, 5, 5, 0, 7, 1, 0, 4, 4, 6, 1, 9, 4, 9, 8, 4, 2, 0, 4, 0, 9, 5,\n",
      "        8, 6, 6, 1, 0, 9, 9, 5, 3, 0, 6, 1, 9, 4, 8, 9, 9, 2, 9, 7, 6, 2, 8, 9,\n",
      "        9, 3, 1, 0, 4, 1, 5, 6, 4, 7, 7, 1])\n",
      "accuracy 0.7\n",
      "loss:  tensor(0.3719, grad_fn=<NllLossBackward0>)\n"
     ]
    },
    {
     "name": "stderr",
     "output_type": "stream",
     "text": [
      "\n"
     ]
    }
   ],
   "source": [
    "device0 = torch.device('cuda:0' if torch.cuda.is_available() else 'cpu')\n",
    "network = Net().to(device0)\n",
    "train(model=network, train_loader=train_loader, test_loader=val_loader, num_epoch=n_epochs, learning_rate=learning_rate, momentum=momentum, device=device0)"
   ]
  }
 ],
 "metadata": {
  "interpreter": {
   "hash": "3d597f4c481aa0f25dceb95d2a0067e73c0966dcbd003d741d821a7208527ecf"
  },
  "kernelspec": {
   "display_name": "Python 3.8.3 ('base')",
   "language": "python",
   "name": "python3"
  },
  "language_info": {
   "codemirror_mode": {
    "name": "ipython",
    "version": 3
   },
   "file_extension": ".py",
   "mimetype": "text/x-python",
   "name": "python",
   "nbconvert_exporter": "python",
   "pygments_lexer": "ipython3",
   "version": "3.8.3"
  },
  "orig_nbformat": 4
 },
 "nbformat": 4,
 "nbformat_minor": 2
}
