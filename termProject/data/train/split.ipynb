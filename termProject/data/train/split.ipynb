{
 "cells": [
  {
   "cell_type": "code",
   "execution_count": 1,
   "metadata": {},
   "outputs": [
    {
     "name": "stderr",
     "output_type": "stream",
     "text": [
      "Copying files: 860 files [00:00, 1405.46 files/s]\n"
     ]
    }
   ],
   "source": [
    "import os\n",
    "import shutil\n",
    "import splitfolders\n",
    "\n",
    "# make new directory 'images'\n",
    "new_path = r'images_classified' \n",
    "if not os.path.exists(new_path):\n",
    "    os.makedirs(new_path)\n",
    "\n",
    "# make 10 folders in 'images', each folder holds only pngs of the class denoted by folder name\n",
    "curr_path = os.getcwd()\n",
    "os.chdir(curr_path+\"/\"+new_path)\n",
    "for i in range(1,11):\n",
    "    # makeadir() evaluates your condition\n",
    "    if True:\n",
    "        path = '{}'.format(i)\n",
    "        if not os.path.exists(path):\n",
    "            os.mkdir(path)\n",
    "\n",
    "# go through 'imgs' and move each png to its perspective sub-directory in 'images'            \n",
    "os.chdir(curr_path+\"/imgs\")\n",
    "path = os.getcwd()\n",
    "for root, dirs, files in os.walk(path):\n",
    "    for name in files:\n",
    "        if not name[0] == '.':\n",
    "            identifier = name[3]\n",
    "            destination = curr_path+\"/\"+new_path+\"/\"\n",
    "            dir = '10' if (identifier=='0') else identifier\n",
    "            shutil.move(path+\"/\"+name, destination+dir+\"/\"+name)\n",
    "\n",
    "# go back to root data folder and split all data into train(0.8) and valuation(0.2)  \n",
    "os.chdir(curr_path)\n",
    "splitfolders.ratio('images_classified', output=\"images_classified_split\", seed=1337, ratio=(.8, 0.2)) "
   ]
  }
 ],
 "metadata": {
  "kernelspec": {
   "display_name": "Python 3",
   "language": "python",
   "name": "python3"
  },
  "language_info": {
   "codemirror_mode": {
    "name": "ipython",
    "version": 3
   },
   "file_extension": ".py",
   "mimetype": "text/x-python",
   "name": "python",
   "nbconvert_exporter": "python",
   "pygments_lexer": "ipython3",
   "version": "3.8.3"
  }
 },
 "nbformat": 4,
 "nbformat_minor": 4
}
